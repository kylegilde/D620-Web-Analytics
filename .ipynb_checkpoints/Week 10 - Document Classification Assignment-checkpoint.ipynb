{
 "cells": [
  {
   "cell_type": "markdown",
   "metadata": {},
   "source": [
    "# Week 10 - Assignment: Document Classification\n",
    "\n",
    "## CUNY DATA 620 Web Analytics\n",
    "\n",
    "### Kyle Gilde\n",
    "\n",
    "### 11/12/2018\n",
    "\n",
    "#### Instructions\n",
    "\n",
    "It can be useful to be able to classify new \"test\" documents using already classified \"training\" documents.  A common example is using a corpus of labeled spam and ham (non-spam) e-mails to predict whether or not a new document is spam.  \n",
    "\n",
    "For this project, predict the class of new documents (either withheld from the training dataset or from another source such as your own spam folder)."
   ]
  },
  {
   "cell_type": "code",
   "execution_count": 123,
   "metadata": {},
   "outputs": [],
   "source": [
    "import glob\n",
    "import os\n",
    "import numpy as np\n",
    "import pandas as pd\n",
    "import matplotlib.pyplot as plt\n",
    "import seaborn as sns\n",
    "import nltk\n",
    "from sklearn.feature_extraction.text import TfidfVectorizer\n",
    "from sklearn.model_selection import train_test_split\n",
    "from sklearn.naive_bayes import GaussianNB\n",
    "from sklearn.metrics import classification_report, accuracy_score, confusion_matrix"
   ]
  },
  {
   "cell_type": "markdown",
   "metadata": {},
   "source": [
    "## The Data\n",
    "\n",
    "For this assignment, let's use the [spam- and ham-labeled data](https://spamassassin.apache.org/old/publiccorpus/) provided by the open-source anti-spam platform [Apache SpamAssassin Project](https://spamassassin.apache.org/). \n",
    "\n",
    "I've downloaded the `20021010_easy_ham.tar.bz2` and `20021010_spam.tar.bz2` zip files, unzipped each of them and put each set of files into its own folder. Each file contains the text of one email.\n",
    "\n",
    "Next, we will read each of the files and create a single DataFrame with the columns `text` and `label`. For each email, we have assigned the ham with label of `0` and the spam with a lable of `1`."
   ]
  },
  {
   "cell_type": "code",
   "execution_count": 37,
   "metadata": {},
   "outputs": [],
   "source": [
    "file_dir = 'd:/documents/spam-ham-data/%s'\n",
    "email_classes = ['ham', 'spam']\n",
    "# get file paths from each folder\n",
    "ham_file_paths, spam_file_paths = glob.glob(os.path.join(file_dir % email_classes[0], \"*.*\")),\\\n",
    "                                  glob.glob(os.path.join(file_dir % email_classes[1], \"*.*\"))\n",
    "# read the text of each file into a list\n",
    "ham_texts, spam_texts = [open(f, errors='ignore', encoding='utf8').read() for f in ham_file_paths],\\\n",
    "                        [open(f, errors='ignore', encoding='utf8').read() for f in spam_file_paths]\n",
    "# create 2 dfs with text and label columns, label = 1 is spam\n",
    "ham_df, spam_df = pd.DataFrame(np.column_stack([ham_texts, np.zeros(len(ham_texts))]), columns=['text', 'label']),\\\n",
    "                  pd.DataFrame(np.column_stack([spam_texts, np.ones(len(spam_texts))]), columns=['text', 'label'])\n",
    "# create a single df\n",
    "the_corpus = pd.concat([ham_df, spam_df])\n",
    "# source: https://stackoverflow.com/questions/20906474/import-multiple-csv-files-into-pandas-and-concatenate-into-one-dataframe"
   ]
  },
  {
   "cell_type": "markdown",
   "metadata": {},
   "source": [
    "## Exploratory Analysis\n",
    "\n",
    "All together we have 3052 emails."
   ]
  },
  {
   "cell_type": "code",
   "execution_count": 89,
   "metadata": {
    "scrolled": true
   },
   "outputs": [
    {
     "data": {
      "text/plain": [
       "3052"
      ]
     },
     "execution_count": 89,
     "metadata": {},
     "output_type": "execute_result"
    }
   ],
   "source": [
    "len(the_corpus)"
   ]
  },
  {
   "cell_type": "markdown",
   "metadata": {},
   "source": [
    "In our corpus, our classes are imbalanced. Less than 1/6 of the documents are spam."
   ]
  },
  {
   "cell_type": "code",
   "execution_count": 39,
   "metadata": {
    "scrolled": true
   },
   "outputs": [
    {
     "data": {
      "text/plain": [
       "<matplotlib.axes._subplots.AxesSubplot at 0x24e6bbe66d8>"
      ]
     },
     "execution_count": 39,
     "metadata": {},
     "output_type": "execute_result"
    },
    {
     "data": {
      "image/png": "[encoded data removed]",
      "text/plain": [
       "<Figure size 432x288 with 1 Axes>"
      ]
     },
     "metadata": {},
     "output_type": "display_data"
    }
   ],
   "source": [
    "the_corpus.label.value_counts().plot.bar()"
   ]
  },
  {
   "cell_type": "markdown",
   "metadata": {},
   "source": [
    "Let's use some of the `nltk` functionality to clean up the corpus and take a look at some of the more common words.\n",
    "\n",
    "After concatenating the email column, tokenizing it and converting it to an nltk.Text object, we will do the following:\n",
    "\n",
    "- convert the text to lowercase\n",
    "- keep only the tokens that begin with an alphabetic character\n",
    "- keep only the tokens with a length greater than 1\n",
    "- remove the stopwords"
   ]
  },
  {
   "cell_type": "code",
   "execution_count": 52,
   "metadata": {},
   "outputs": [],
   "source": [
    "nl_text = nltk.Text(nltk.word_tokenize(the_corpus.text.str.cat(sep=' ')))\n",
    "cleaned_text = [word.lower() for word in nl_text if word[0].isalpha()]\n",
    "cleaned_text2 = [word for word in cleaned_text if len(word) > 1]\n",
    "cleaned_text3 = [word for word in cleaned_text2 if word not in stopwords.words('english')]"
   ]
  },
  {
   "cell_type": "markdown",
   "metadata": {},
   "source": [
    "The original corpus had  over 2.1 million tokens & 106K unique tokens. The new corpus has 850K tokens with 59K that are unique."
   ]
  },
  {
   "cell_type": "code",
   "execution_count": 88,
   "metadata": {
    "scrolled": false
   },
   "outputs": [
    {
     "name": "stdout",
     "output_type": "stream",
     "text": [
      "2197438\n",
      "857540\n",
      "106094\n",
      "59395\n"
     ]
    }
   ],
   "source": [
    "print(len(nl_text))\n",
    "print(len(cleaned_text3))\n",
    "print(len(set(nl_text)))\n",
    "print(len(set(cleaned_text3)))"
   ]
  },
  {
   "cell_type": "markdown",
   "metadata": {},
   "source": [
    "Now let's take a look at the most common words that comprise 20% of the corpus. 'received' is the most common at 2%."
   ]
  },
  {
   "cell_type": "code",
   "execution_count": 86,
   "metadata": {
    "scrolled": true
   },
   "outputs": [
    {
     "data": {
      "text/plain": [
       "<matplotlib.axes._subplots.AxesSubplot at 0x24e42f05ef0>"
      ]
     },
     "execution_count": 86,
     "metadata": {},
     "output_type": "execute_result"
    },
    {
     "data": {
      "text/plain": [
       "<Figure size 1080x792 with 0 Axes>"
      ]
     },
     "metadata": {},
     "output_type": "display_data"
    },
    {
     "data": {
      "image/png": "[encoded data removed]",
      "text/plain": [
       "<Figure size 1080x576 with 1 Axes>"
      ]
     },
     "metadata": {},
     "output_type": "display_data"
    }
   ],
   "source": [
    "fdist = nltk.FreqDist(cleaned_text3)\n",
    "fdist_df = pd.DataFrame(list(dict(fdist).items()), columns=['word', 'n'])\n",
    "fdist_df = fdist_df.sort_values('n', ascending=False).reset_index().drop('index', axis=1)\n",
    "fdist_df['proportion'] = fdist_df.n / fdist_df.n.sum()\n",
    "fdist_df['cumulative'] = fdist_df.proportion.cumsum()\n",
    "plt.figure(figsize=(15, 11))\n",
    "fdist_df[fdist_df['cumulative'] < .2].plot.bar('word', 'proportion', figsize=(15, 8))"
   ]
  },
  {
   "cell_type": "markdown",
   "metadata": {},
   "source": [
    "## Modeling\n",
    "\n",
    "Now let's use scikit-learn to extract features, create a model and make predictions.\n",
    "\n",
    "### Feature Extraction\n",
    "\n",
    "Let's try to use the scikit-learn's [powerful `TfidfVectorizer` class](https://scikit-learn.org/stable/modules/generated/sklearn.feature_extraction.text.TfidfVectorizer.html) and clean up the corpus similarly to how we did using `nltk`.\n",
    "\n",
    "We will use these default `TfidfVectorizer` parameters without explicitly calling them:\n",
    "\n",
    "- `lowercase=True`\n",
    "- `max_df=1`(This means that there is a maximum document frequency of 1. If the term appears in all documents, it will be removed.)\n",
    "- `use_idf=True` (The term counts are divided by the natural log of the document frequency)\n",
    "\n",
    "Additionally, we will specify the following parameters explicitly:\n",
    "\n",
    "\n",
    "- `sublinear_tf=True` (This adds 1 to the natural log of the document frequency. It prevents division by zero.)\n",
    "- `min_df=5` (We will set the minimum document frequency for each term to 5.)\n",
    "- `ngram_range=(1, 1)` (This specifies that we only want to use the unigrams.)\n",
    "\n",
    "\n",
    "\n"
   ]
  },
  {
   "cell_type": "code",
   "execution_count": 102,
   "metadata": {
    "scrolled": true
   },
   "outputs": [],
   "source": [
    "tfidf = TfidfVectorizer(sublinear_tf=True, \n",
    "                        min_df=5,  \n",
    "                        ngram_range=(1, 1), \n",
    "                        stop_words='english')"
   ]
  },
  {
   "cell_type": "markdown",
   "metadata": {},
   "source": [
    "The output of using the `TfidfVectorizer` is a document-term matrix (DTM), where each row represents each document and the columns are each term."
   ]
  },
  {
   "cell_type": "code",
   "execution_count": 119,
   "metadata": {
    "scrolled": false
   },
   "outputs": [
    {
     "data": {
      "text/html": [
       "<div>\n",
       "<style scoped>\n",
       "    .dataframe tbody tr th:only-of-type {\n",
       "        vertical-align: middle;\n",
       "    }\n",
       "\n",
       "    .dataframe tbody tr th {\n",
       "        vertical-align: top;\n",
       "    }\n",
       "\n",
       "    .dataframe thead th {\n",
       "        text-align: right;\n",
       "    }\n",
       "</style>\n",
       "<table border=\"1\" class=\"dataframe\">\n",
       "  <thead>\n",
       "    <tr style=\"text-align: right;\">\n",
       "      <th></th>\n",
       "      <th>0</th>\n",
       "      <th>1</th>\n",
       "      <th>2</th>\n",
       "      <th>3</th>\n",
       "      <th>4</th>\n",
       "      <th>5</th>\n",
       "      <th>6</th>\n",
       "      <th>7</th>\n",
       "      <th>8</th>\n",
       "      <th>9</th>\n",
       "      <th>...</th>\n",
       "      <th>10511</th>\n",
       "      <th>10512</th>\n",
       "      <th>10513</th>\n",
       "      <th>10514</th>\n",
       "      <th>10515</th>\n",
       "      <th>10516</th>\n",
       "      <th>10517</th>\n",
       "      <th>10518</th>\n",
       "      <th>10519</th>\n",
       "      <th>10520</th>\n",
       "    </tr>\n",
       "  </thead>\n",
       "  <tbody>\n",
       "    <tr>\n",
       "      <th>0</th>\n",
       "      <td>0.000000</td>\n",
       "      <td>0.0</td>\n",
       "      <td>0.000000</td>\n",
       "      <td>0.0</td>\n",
       "      <td>0.0</td>\n",
       "      <td>0.0</td>\n",
       "      <td>0.0</td>\n",
       "      <td>0.0</td>\n",
       "      <td>0.0</td>\n",
       "      <td>0.0</td>\n",
       "      <td>...</td>\n",
       "      <td>0.0</td>\n",
       "      <td>0.0</td>\n",
       "      <td>0.0</td>\n",
       "      <td>0.0</td>\n",
       "      <td>0.0</td>\n",
       "      <td>0.062461</td>\n",
       "      <td>0.0</td>\n",
       "      <td>0.0</td>\n",
       "      <td>0.0</td>\n",
       "      <td>0.000000</td>\n",
       "    </tr>\n",
       "    <tr>\n",
       "      <th>1</th>\n",
       "      <td>0.000000</td>\n",
       "      <td>0.0</td>\n",
       "      <td>0.070025</td>\n",
       "      <td>0.0</td>\n",
       "      <td>0.0</td>\n",
       "      <td>0.0</td>\n",
       "      <td>0.0</td>\n",
       "      <td>0.0</td>\n",
       "      <td>0.0</td>\n",
       "      <td>0.0</td>\n",
       "      <td>...</td>\n",
       "      <td>0.0</td>\n",
       "      <td>0.0</td>\n",
       "      <td>0.0</td>\n",
       "      <td>0.0</td>\n",
       "      <td>0.0</td>\n",
       "      <td>0.091750</td>\n",
       "      <td>0.0</td>\n",
       "      <td>0.0</td>\n",
       "      <td>0.0</td>\n",
       "      <td>0.210780</td>\n",
       "    </tr>\n",
       "    <tr>\n",
       "      <th>2</th>\n",
       "      <td>0.029859</td>\n",
       "      <td>0.0</td>\n",
       "      <td>0.054356</td>\n",
       "      <td>0.0</td>\n",
       "      <td>0.0</td>\n",
       "      <td>0.0</td>\n",
       "      <td>0.0</td>\n",
       "      <td>0.0</td>\n",
       "      <td>0.0</td>\n",
       "      <td>0.0</td>\n",
       "      <td>...</td>\n",
       "      <td>0.0</td>\n",
       "      <td>0.0</td>\n",
       "      <td>0.0</td>\n",
       "      <td>0.0</td>\n",
       "      <td>0.0</td>\n",
       "      <td>0.071220</td>\n",
       "      <td>0.0</td>\n",
       "      <td>0.0</td>\n",
       "      <td>0.0</td>\n",
       "      <td>0.163615</td>\n",
       "    </tr>\n",
       "    <tr>\n",
       "      <th>3</th>\n",
       "      <td>0.019134</td>\n",
       "      <td>0.0</td>\n",
       "      <td>0.022600</td>\n",
       "      <td>0.0</td>\n",
       "      <td>0.0</td>\n",
       "      <td>0.0</td>\n",
       "      <td>0.0</td>\n",
       "      <td>0.0</td>\n",
       "      <td>0.0</td>\n",
       "      <td>0.0</td>\n",
       "      <td>...</td>\n",
       "      <td>0.0</td>\n",
       "      <td>0.0</td>\n",
       "      <td>0.0</td>\n",
       "      <td>0.0</td>\n",
       "      <td>0.0</td>\n",
       "      <td>0.070663</td>\n",
       "      <td>0.0</td>\n",
       "      <td>0.0</td>\n",
       "      <td>0.0</td>\n",
       "      <td>0.000000</td>\n",
       "    </tr>\n",
       "    <tr>\n",
       "      <th>4</th>\n",
       "      <td>0.029033</td>\n",
       "      <td>0.0</td>\n",
       "      <td>0.000000</td>\n",
       "      <td>0.0</td>\n",
       "      <td>0.0</td>\n",
       "      <td>0.0</td>\n",
       "      <td>0.0</td>\n",
       "      <td>0.0</td>\n",
       "      <td>0.0</td>\n",
       "      <td>0.0</td>\n",
       "      <td>...</td>\n",
       "      <td>0.0</td>\n",
       "      <td>0.0</td>\n",
       "      <td>0.0</td>\n",
       "      <td>0.0</td>\n",
       "      <td>0.0</td>\n",
       "      <td>0.063327</td>\n",
       "      <td>0.0</td>\n",
       "      <td>0.0</td>\n",
       "      <td>0.0</td>\n",
       "      <td>0.000000</td>\n",
       "    </tr>\n",
       "  </tbody>\n",
       "</table>\n",
       "<p>5 rows × 10521 columns</p>\n",
       "</div>"
      ],
      "text/plain": [
       "      0      1         2      3      4      5      6      7      8      9      \\\n",
       "0  0.000000    0.0  0.000000    0.0    0.0    0.0    0.0    0.0    0.0    0.0   \n",
       "1  0.000000    0.0  0.070025    0.0    0.0    0.0    0.0    0.0    0.0    0.0   \n",
       "2  0.029859    0.0  0.054356    0.0    0.0    0.0    0.0    0.0    0.0    0.0   \n",
       "3  0.019134    0.0  0.022600    0.0    0.0    0.0    0.0    0.0    0.0    0.0   \n",
       "4  0.029033    0.0  0.000000    0.0    0.0    0.0    0.0    0.0    0.0    0.0   \n",
       "\n",
       "     ...     10511  10512  10513  10514  10515     10516  10517  10518  10519  \\\n",
       "0    ...       0.0    0.0    0.0    0.0    0.0  0.062461    0.0    0.0    0.0   \n",
       "1    ...       0.0    0.0    0.0    0.0    0.0  0.091750    0.0    0.0    0.0   \n",
       "2    ...       0.0    0.0    0.0    0.0    0.0  0.071220    0.0    0.0    0.0   \n",
       "3    ...       0.0    0.0    0.0    0.0    0.0  0.070663    0.0    0.0    0.0   \n",
       "4    ...       0.0    0.0    0.0    0.0    0.0  0.063327    0.0    0.0    0.0   \n",
       "\n",
       "      10520  \n",
       "0  0.000000  \n",
       "1  0.210780  \n",
       "2  0.163615  \n",
       "3  0.000000  \n",
       "4  0.000000  \n",
       "\n",
       "[5 rows x 10521 columns]"
      ]
     },
     "execution_count": 119,
     "metadata": {},
     "output_type": "execute_result"
    }
   ],
   "source": [
    "dtm = tfidf.fit_transform(the_corpus.text).toarray() \n",
    "pd.DataFrame(dtm).head()"
   ]
  },
  {
   "cell_type": "markdown",
   "metadata": {},
   "source": [
    "Now let's split our labels and DTM into a test and training set."
   ]
  },
  {
   "cell_type": "code",
   "execution_count": 120,
   "metadata": {},
   "outputs": [],
   "source": [
    "X_train, X_test, y_train, y_test = train_test_split(dtm, the_corpus.label, test_size=.3,\\\n",
    "                                                    random_state=1, stratify=the_corpus.label)"
   ]
  },
  {
   "cell_type": "markdown",
   "metadata": {},
   "source": [
    "### Train Model\n",
    "\n",
    "Let's use the naive Bayes (NB) classifier to build our model. This model derives its \"naiviete\" from its independence asssumption. NB assumes that all features are independent of one another, but in the real-world, features are often correlated. This can have the effect of \"double-counting\" the effects of correlated features."
   ]
  },
  {
   "cell_type": "code",
   "execution_count": 121,
   "metadata": {
    "scrolled": true
   },
   "outputs": [],
   "source": [
    "NB_model = GaussianNB().fit(X_train, y_train)"
   ]
  },
  {
   "cell_type": "markdown",
   "metadata": {},
   "source": [
    "### Score Model\n",
    "\n",
    "The model's accuracy and F1-score are near .99, which is pretty good for our first model. There were 0 false positves, which means that the model did not incorrectly label any ham emails as spam."
   ]
  },
  {
   "cell_type": "code",
   "execution_count": 128,
   "metadata": {
    "scrolled": false
   },
   "outputs": [
    {
     "name": "stdout",
     "output_type": "stream",
     "text": [
      "0.986\n",
      "             precision    recall  f1-score   support\n",
      "\n",
      "        0.0       0.98      1.00      0.99       766\n",
      "        1.0       1.00      0.91      0.95       150\n",
      "\n",
      "avg / total       0.99      0.99      0.99       916\n",
      "\n"
     ]
    }
   ],
   "source": [
    "y_pred = NB_model.predict(X_test)\n",
    "print(accuracy_score(y_test, y_pred).round(3))\n",
    "print(classification_report(y_test, y_pred))"
   ]
  }
 ],
 "metadata": {
  "kernelspec": {
   "display_name": "Python 3",
   "language": "python",
   "name": "python3"
  },
  "language_info": {
   "codemirror_mode": {
    "name": "ipython",
    "version": 3
   },
   "file_extension": ".py",
   "mimetype": "text/x-python",
   "name": "python",
   "nbconvert_exporter": "python",
   "pygments_lexer": "ipython3",
   "version": "3.6.5"
  }
 },
 "nbformat": 4,
 "nbformat_minor": 2
}
