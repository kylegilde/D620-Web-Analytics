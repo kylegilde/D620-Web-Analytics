{
 "cells": [
  {
   "cell_type": "markdown",
   "metadata": {
    "collapsed": true
   },
   "source": [
    "# CUNY DATA620 Final Project\n",
    "\n",
    "## Kyle Gilde\n",
    "\n",
    "## 12/15/2018\n",
    "\n",
    "\n",
    "Gleaning information from customer reviews presents both challenges and opportunities for businesses. The challenges include bringing a formal, objective & interpretable structure to unstructured, subjective natural language, while the results can yield valuable insights into customer attitudes towards the business.\n",
    "\n",
    "For the final project, I will use a bag of words approach to build a machine learning classification model that uses text of Yelp customer reviews to predict the review's numerical `star` rating. In effect, we will see if we can build a sentiment analysis classifier. Our data set will be the [Yelp Open Dataset](https://www.yelp.com/dataset), which the company makes available for non-commercial use. \n",
    "\n",
    "We will experiment with different natural language processing techniques to normalize the text and with different machine learning algorithms. The modeling approach is inspired by Susan Li's Towards Data Science article called [\"Multi-Class Text Classification with Scikit-Learn\"](https://towardsdatascience.com/multi-class-text-classification-with-scikit-learn-12f1e60e0a9f) and some of her code is used as starting point.\n"
   ]
  },
  {
   "cell_type": "code",
   "execution_count": 1,
   "metadata": {},
   "outputs": [],
   "source": [
    "import numpy as np\n",
    "import pandas as pd\n",
    "import matplotlib.pyplot as plt\n",
    "import seaborn as sns\n",
    "\n",
    "import nltk\n",
    "from nltk.corpus import stopwords\n",
    "\n",
    "from sklearn.feature_extraction.text import TfidfVectorizer, CountVectorizer\n",
    "from sklearn.feature_selection import chi2\n",
    "\n",
    "from sklearn.model_selection import train_test_split\n",
    "from sklearn.linear_model import LogisticRegression\n",
    "from sklearn.svm import LinearSVC\n",
    "from sklearn.naive_bayes import MultinomialNB\n",
    "from sklearn.model_selection import cross_val_score\n",
    "# from sklearn.tree import DecisionTreeClassifier\n",
    "from sklearn.metrics import classification_report, accuracy_score, confusion_matrix\n",
    "\n",
    "from IPython.display import display, HTML\n",
    "import warnings\n",
    "# warnings.filterwarnings('ignore')"
   ]
  },
  {
   "cell_type": "markdown",
   "metadata": {},
   "source": [
    "## Exploratory Data Analysis\n",
    "\n",
    "From the original 6 million reviews, I used [this Python script](https://github.com/kylegilde/D620-Web-Analytics/blob/master/Final%20Project/resize-data.py) to retain only the reviews that were written starting in 2016 and that at least 10 other Yelp customers deemed \"useful\". The latter condition should reduce the amount of random noise caused by poorly written reviews.  With these conditions, our data set was over 33K reviews."
   ]
  },
  {
   "cell_type": "code",
   "execution_count": 2,
   "metadata": {},
   "outputs": [
    {
     "name": "stdout",
     "output_type": "stream",
     "text": [
      "<class 'pandas.core.frame.DataFrame'>\n",
      "RangeIndex: 33255 entries, 0 to 33254\n",
      "Data columns (total 3 columns):\n",
      "stars     33255 non-null int64\n",
      "text      33255 non-null object\n",
      "useful    33255 non-null int64\n",
      "dtypes: int64(2), object(1)\n",
      "memory usage: 779.5+ KB\n"
     ]
    }
   ],
   "source": [
    "raw_data = pd.read_csv('D:/documents/yelp_reviews.csv')[['stars', 'text', 'useful']]\n",
    "raw_data.info()"
   ]
  },
  {
   "cell_type": "markdown",
   "metadata": {},
   "source": [
    "### The Response Variable\n",
    "\n",
    "Our `star` response variable contains 5 imbalanced classes. The top rating of 5 is most common, closely followed by 4. The poorest rating of 1 is the third most common, followed by 3, and 2 stars is the least common class."
   ]
  },
  {
   "cell_type": "code",
   "execution_count": 3,
   "metadata": {
    "scrolled": true
   },
   "outputs": [
    {
     "data": {
      "text/plain": [
       "<matplotlib.axes._subplots.AxesSubplot at 0x17634925e80>"
      ]
     },
     "execution_count": 3,
     "metadata": {},
     "output_type": "execute_result"
    },
    {
     "data": {
      "image/png": "[encoded data removed]",
      "text/plain": [
       "<Figure size 792x648 with 1 Axes>"
      ]
     },
     "metadata": {},
     "output_type": "display_data"
    }
   ],
   "source": [
    "plt.figure(figsize=(11, 9))\n",
    "sns.countplot(x='stars', data=raw_data)"
   ]
  },
  {
   "cell_type": "markdown",
   "metadata": {},
   "source": [
    "### The Reviews\n",
    "\n",
    "First, let's take a look at the most useful review from each star level. We observe the following:\n",
    "\n",
    "- the reviews associated with bad ratings have more words that are completely capitalized and possibly more exclamation points. We may want to consider using these as features.\n",
    "- the negative reviews seem to have more words of negation, e.g. \"no\" & \"not\". Normally, these common words would be removed from the text when we remove stopwords. However, for our purposes, we may want to consider leaving them in. Additionally, we may want to consider replacing negative contractions.\n",
    "- we should see if the length of the review is positively correlated with the rating.\n"
   ]
  },
  {
   "cell_type": "code",
   "execution_count": 4,
   "metadata": {
    "scrolled": true
   },
   "outputs": [
    {
     "data": {
      "text/html": [
       "<table border=\"1\" class=\"dataframe\">\n",
       "  <thead>\n",
       "    <tr style=\"text-align: right;\">\n",
       "      <th>stars</th>\n",
       "      <th>text</th>\n",
       "    </tr>\n",
       "  </thead>\n",
       "  <tbody>\n",
       "    <tr>\n",
       "      <td>1</td>\n",
       "      <td>Was in Scottsdale visiting a friend and we stopped by here for a bite to eat. Possibly one of the worst dining experiences I have ever had. The owner (at least I think he was the owner) came out from the back of the kitchen and almost assaulted another patron for complaining that his meal was frozen solid in the middle. The couple quickly left the restaurant and we had a chuckle at this odd behavior but waited for our pizza. \\r\\n\\r\\nWhen our pizza finally came it was AWFUL! Growing up in NY I am a bit of a pizza snob and let me tell you, this barely passed as edible. It was cold, the cheese wasn't fully cooked and looked like it might have actually been a microwavable pizza. When I asked if they could heat it in the oven for longer they copped the biggest attitude and made us wait for 30 minutes. Absolutely terrible! Eventually we just got up and let after leaving a tip for the waitress.\\r\\n\\r\\nI honestly thought I might have been on some type of reality TV show, that's how insanely BAD this place is!</td>\n",
       "    </tr>\n",
       "    <tr>\n",
       "      <td>2</td>\n",
       "      <td>With all the chemicals, pesticides, pollution, GMO's and hormone injected food, Whole Food stood up to provide organic food. However I think I just ate a gasoline brisket at this location. \\r\\n\\r\\nI like Whole Foods bread, salads and food bar. When I'm home in Chicago, I eat at WF every single day. Big fan. Recently I stopped by this location on my way to Pittsburgh airport. From outside, this location looks neat and brand new. It's spacious from the inside and has plenty of indoors and outside seats. \\r\\n\\r\\nI was all happy until I tasted the food. I added a piece of brisket, one piece of fried chicken and one chicken drumstick to my salad. Oh man!! When I opened the salad box, a strong petroleum smell slapped my nose. I found out it was coming from the brisket. I think they marinated the brisket in gasoline and charcoal. It was tender, but not edible. So I discarded it. The fried chicken was bone dry so I didn't eat it. The roasted chicken drumstick felt you're biting into big chunks of dry spices rub, ugh!. Left it alone as well. The green vegetables I added were really fresh and nice. But the gasoline taste overwhelmed everything. \\r\\n\\r\\nTo buy groceries, I think this WF is great and standard. For the food section, it would be nice if the manager or the cooks could taste the food before serving it. I was tired and in a hurry to complain about that gasoline charcoal brisket.</td>\n",
       "    </tr>\n",
       "    <tr>\n",
       "      <td>3</td>\n",
       "      <td>Nutter Butter, Chips Ahoy! and Oreo cookie made into an awesome doughnut?! \\r\\n\\r\\nYes, please! \\r\\n\\r\\nHere's how the fabulous trio scored in taste and originality. \\r\\n\\r\\nThe Nutter Butter Cookie Twist Doughnut; covered in Krispy Kreme's signature glaze, dipped in peanut butter icing, topped with real Nutter Butter cookie pieces, then drizzled with more of the peanut butter icing. Phew! A lot of dipping and drizzling for a doughnut! \\r\\n\\r\\nAll worth the work for it actually tasted like the Nutter Butter cookies! Not too overpowering on the peanut butter taste, overall, this was my favorite of the three. \\r\\n\\r\\nThe Chips Ahoy! Doughnut; with cookie dough Kreme, topped with melted dark chocolate and a mini Chips Ahoy cookie. \\r\\n\\r\\nOne of the best dressed, but, it was super sweet, tasted like a regular Kreme doughnut and sort of a spin off of the Boston Cream pastry. It didn't have the cookie inspiration I was looking for. \\r\\n\\r\\nLastly, making its return, by popular demand, the Oreo Cookies and Kreme doughnut; Stuffed with an Oreo cookie flavored cream, then coated in dark chocolate icing, topped with Oreo cookie crumbles and finished off with a drizzle of icing.\\r\\n\\r\\nAgain a miss in the Oreo goodness. Very light in the cookies and cream flavor and the chocolate wasn't sharp enough. \\r\\n\\r\\nThere you have it. Do remember that all their doughnuts are ingredient Kosher, where certain factors are limited into getting that full, flavored taste that we are looking for. Still, an imaginative mash up. \\r\\n\\r\\n\"So, whatever sprinkles your doughnuts, is fine by me for you are all sprinkles on my doughnuts!\"</td>\n",
       "    </tr>\n",
       "    <tr>\n",
       "      <td>4</td>\n",
       "      <td>Ribeye phenomena:\\r\\n\\r\\nThis is definitely a unique dish that you probably won't experience somewhere else. It's designed for two big hungry dudes or 2 steelers maybe. It's a 34 oz bone-in ribeye topped with mushroom Ragu, bone marrow gratin and confit fries. FYI, for metric system folks, 34 oz ~ 1 kg. Warning: it's a giant dish!. We boxed half of it.  Seriously, you can't order this if you're going out on a date with a delicate fine lady. It looks exactly like a dinner for a Viking king. People sitting around us were curiously uninhibitedly staring at the dish.  It was delicious! Although I wasn't a fan of the mushrooms on top. The meat was perfectly cooked, juicy and tender. Bone marrow was wonderful!. Confit fries were not good. They were hard, overcooked, soaked with fat and bland. My suggestion for improvement is to eliminate the fries or use regular fries like McDonald's. Some people like the mushrooms topping, personally I think it was unnecessary. A good steak doesn't need any topping other than salt and pepper. \\r\\n\\r\\nWe walked in around 5 pm without a reservation. Waited for 45 minutes, spent it walking around the pretty Cultural District. Pittsburgh has a Chicago or New York touch. Atmosphere here is classic. Bar area is in the middle and seats are around it in a rectangle shape. We asked the waitress to change our seats from a tiny table to a bigger one. That was thankfully granted. \\r\\n\\r\\nDuring my brisk visit with Pittsburgh, I wanted to pay one of my good friends back. He genuinely showed extraordinary hospitality. You can never pay nice people back. But it was a good hint coming here.</td>\n",
       "    </tr>\n",
       "    <tr>\n",
       "      <td>5</td>\n",
       "      <td>The Wynn Hotel. One word. Opulent. \\r\\n\\r\\nWynn, is a luxury resort and casino located on the Las Vegas Strip. Named after the casino developer Steve Wynn, this $2.7 billion resort together with Encore is the world's seventh-largest hotels and one of the finest in the world. \\r\\n\\r\\nHolding the title for the highest rated resort company in the world with 16 Forbes Travel Guide Five-Star Awards, AAA five diamond, Mobil five-star, Michelin five star, and Zagat Survey Top U.S. Hotel ratings, as well as one Michelin star for its restaurant Wing Lei, the first Chinese restaurant to receive a Michelin Star in the country. \\r\\n\\r\\nThe Wynn is a genre almost entirely their own. Talk about a blend of opulent creativity and seductive comfort. Wynn Hotel designer Roger Thomas calls it \"Evocatect.\" The \"architecture that evokes wonderful moments in people's lives.\" \\r\\n\\r\\nShare a moment alone or with someone special and walk through the sunlit Atrium, gaze at the immense beauty of the Parasols, dine at one of their Four-Star Award-winning restaurants, which holds more awards than any other independent resort in North America, shop at Chanel, Dior, or Louie Vuitton just to name a few, enjoy their epic casino gaming floor or just take a load off and stay at one of their exquisite rooms. \\r\\n\\r\\nWhatever you decide to do at the Wynn, their magnificent ambience and hospitality will create such an extraordinary emotional experience you will never forget.</td>\n",
       "    </tr>\n",
       "  </tbody>\n",
       "</table>"
      ],
      "text/plain": [
       "<IPython.core.display.HTML object>"
      ]
     },
     "metadata": {},
     "output_type": "display_data"
    }
   ],
   "source": [
    "most_useful_review_idx = raw_data.groupby('stars')['useful'].idxmax()\n",
    "most_useful_reviews = raw_data.loc[most_useful_review_idx, ['stars','text']].reset_index(drop=True)\n",
    "\n",
    "pd.set_option('display.max_colwidth', 0)\n",
    "display(HTML(most_useful_reviews.to_html(index=False)))\n",
    "# Source: https://stackoverflow.com/a/35693013/4463701"
   ]
  },
  {
   "cell_type": "markdown",
   "metadata": {},
   "source": [
    "Contrary to what we suspected, the median number of words in 5-star level is the smallest, and the 2-star rating has the most."
   ]
  },
  {
   "cell_type": "code",
   "execution_count": 5,
   "metadata": {},
   "outputs": [
    {
     "data": {
      "text/plain": [
       "<matplotlib.axes._subplots.AxesSubplot at 0x17635013470>"
      ]
     },
     "execution_count": 5,
     "metadata": {},
     "output_type": "execute_result"
    },
    {
     "data": {
      "image/png": "[encoded data removed]",
      "text/plain": [
       "<Figure size 1080x720 with 1 Axes>"
      ]
     },
     "metadata": {},
     "output_type": "display_data"
    }
   ],
   "source": [
    "plt.figure(figsize=(15, 10))\n",
    "# count words per review\n",
    "raw_data['n_words'] = raw_data.text.str.lower().str.split().apply(len)\n",
    "sns.boxplot(x='stars', y='n_words', fliersize=1, data=raw_data)"
   ]
  },
  {
   "cell_type": "markdown",
   "metadata": {},
   "source": [
    "### Text munging / Feature Engineering\n",
    "\n",
    "Next, let's write some functions that will normalize our corpus. \n",
    "\n",
    "The normalization process includes the following:\n",
    "\n",
    "- converting the text to lowercase\n",
    "- let's test our hypothesis that the exclamation marks are indicative of the star rating. We will represent them with the token \"exclamationpoint\" so that they don't get removed by our tokenizer.\n",
    "- replacing \"not\" contractions with the word not\n",
    "- removing the `nltk` stopwords, except for 'not', 'nor', 'no'\n",
    "- keeping only the alphabetic tokens\n",
    "- keeping only the tokens with a length greater than 1\n",
    "- and finally, using Porter stemmer to replace all variantions with the word stem."
   ]
  },
  {
   "cell_type": "code",
   "execution_count": null,
   "metadata": {},
   "outputs": [],
   "source": [
    "def replace_not_contractions(doc):\n",
    "    \"\"\"\n",
    "    Passed as the callable to Pandas.apply()\n",
    "    Replaces \"n't\" with \" not\"\n",
    "    \"\"\"\n",
    "    if \"n't\" in doc:\n",
    "        tokens = []\n",
    "        for token in doc.split():\n",
    "            if token.endswith(\"n't\"):\n",
    "                if token == \"can't\":\n",
    "                    token = \" can not \"\n",
    "                elif token == \"won't\":\n",
    "                    token = \" will not \"\n",
    "                else:\n",
    "                    token = token.replace(\"n't\", \" not \")\n",
    "            tokens.append(token)\n",
    "        return ' '.join(tokens)  \n",
    "    else:\n",
    "        return doc\n",
    "\n",
    "\n",
    "porter_stemmer = nltk.PorterStemmer()\n",
    "revised_stopwords = [word for word in stopwords.words('english') if not word.endswith(\"n't\") and word not in ['not', 'nor', 'no']] \n",
    "\n",
    "def porter_stem_and_clean_text(doc):\n",
    "    \"\"\"\n",
    "    Passed as the callable to Pandas.apply()\n",
    "    Each token is stemmed and returned if it meets the conditions\n",
    "    Sources: https://stackoverflow.com/a/36191362/4463701\n",
    "    https://stackoverflow.com/a/51281480/4463701\n",
    "    \"\"\"\n",
    "    stemmed_tokens = [porter_stemmer.stem(token) for token in nltk.word_tokenize(doc)\\\n",
    "                      if token.isalpha() # token contains only alphabetic characters\n",
    "                      and len(token) > 1 # token is at least 2 characters long\n",
    "                      and token not in revised_stopwords] # token is not among the revised stopwords\n",
    "    return ' '.join(stemmed_tokens) \n",
    "\n",
    "raw_data['text_porter_stemmed'] = raw_data.text\\\n",
    "    .str.replace(\"!\", \" exclampt \")\\\n",
    "    .str.lower()\\\n",
    "    .apply(replace_not_contractions)\\\n",
    "    .apply(porter_stem_and_clean_text)"
   ]
  },
  {
   "cell_type": "markdown",
   "metadata": {},
   "source": [
    "The result of this normalizing is that the number of unique words has from 120K to 43K, a reduction of 65%."
   ]
  },
  {
   "cell_type": "code",
   "execution_count": null,
   "metadata": {},
   "outputs": [],
   "source": [
    "original_unique_terms = set(np.concatenate(raw_data.text.apply(nltk.word_tokenize)))\n",
    "new_unique_terms = set(np.concatenate(raw_data.text_porter_stemmed.apply(nltk.word_tokenize)))\n",
    "\n",
    "original_n_unique_terms, new_n_unique_terms = len(original_unique_terms), len(new_unique_terms)\n",
    "\n",
    "print(original_n_unique_terms, new_n_unique_terms)\n",
    "print(round((new_n_unique_terms / original_n_unique_terms - 1) * 100))\n"
   ]
  },
  {
   "cell_type": "markdown",
   "metadata": {},
   "source": [
    "Here is what a review looks like after these transformations."
   ]
  },
  {
   "cell_type": "code",
   "execution_count": null,
   "metadata": {},
   "outputs": [],
   "source": [
    "raw_data.text_porter_stemmed[0][:1000]"
   ]
  },
  {
   "cell_type": "markdown",
   "metadata": {},
   "source": [
    "### Unigram Document-Term Matrix and Term-Frequency-Inverse Document Frequency\n",
    "\n",
    "Now we will create our features using the `create_n_gram_dtm` wrapper function for sci-kit learn's [`TfidfVectorizer` class](\n",
    "https://scikit-learn.org/stable/modules/generated/sklearn.feature_extraction.text.TfidfVectorizer.html). \n",
    "\n",
    "This class creates a document-term matris. Each row represents a document, and the columns represent the document words. Instead of using token counts, we will use a calculation called term-frequency-inverse document frequency (TF-IDF). \n",
    "\n",
    "The TF-IDF values represent the importance of the term within each document and to the corpus as a whole. The numerator is the count of the term within the document, and the denominator is weighting which ues the [natural logrithm of the inverse document frequency](https://github.com/scikit-learn/scikit-learn/blob/55bf5d9/sklearn/feature_extraction/text.py#L1242). The inverse document frequency is number of documents divided by the number of documents with that term. It is a measure of how unique this token is within the corpus.\n",
    "\n",
    "Our default minimum document frequecy for a term will be set to 10. \n",
    "\n"
   ]
  },
  {
   "cell_type": "code",
   "execution_count": null,
   "metadata": {},
   "outputs": [],
   "source": [
    "\n",
    "def create_n_gram_dtm(text_data, min_n_gram=1, max_n_gram=1, min_df=10):\n",
    "    \"\"\"\n",
    "    Creates a document-term-matrix from a column of text\n",
    "    :param text_data: a Pandas Series containing text\n",
    "    :param max_n_gram: default is 1\n",
    "    :param min_n_gram: default is 1\n",
    "    :param min_df: default is 10\n",
    "    :return: dtm sparse matrix and list of feature names\n",
    "    \"\"\"\n",
    "    n_gram_vectorizer = TfidfVectorizer(min_df=min_df,\n",
    "                                        ngram_range=(min_n_gram, max_n_gram))   \n",
    "    dtm = n_gram_vectorizer.fit_transform(text_data)\n",
    "    return (dtm, n_gram_vectorizer.get_feature_names())\n",
    "\n",
    "\n",
    "\n",
    "unigram_dtm, unigram_feature_names = create_n_gram_dtm(raw_data.text_porter_stemmed)\n"
   ]
  },
  {
   "cell_type": "markdown",
   "metadata": {},
   "source": [
    "After removing terms that occur less than 10 times, our total number decreases from 43K to 10626."
   ]
  },
  {
   "cell_type": "code",
   "execution_count": null,
   "metadata": {},
   "outputs": [],
   "source": [
    "print(len(unigram_feature_names))"
   ]
  },
  {
   "cell_type": "markdown",
   "metadata": {},
   "source": [
    "### Top Class-Correlated Tokens\n",
    "\n",
    "The next function calculates the chi-squared statistic for each of terms and classes and plots the top 10 terms by class.\n"
   ]
  },
  {
   "cell_type": "code",
   "execution_count": null,
   "metadata": {
    "scrolled": true
   },
   "outputs": [],
   "source": [
    "RESPONSE_LABEL_VALUES = np.sort(raw_data.stars.unique())\n",
    "\n",
    "def plot_most_correlated_tokens(dtm, feature_names, n_grams = 1, labels = raw_data.stars, top_n_tokens = 10):\n",
    "    \"\"\"\n",
    "    Calculates the chi-squared statistic for each of terms and classes \n",
    "    and plots the top 10 terms by class.\n",
    "    \n",
    "    :param dtm: a sparse matrix\n",
    "    :param feature_names: list of feature names\n",
    "    :param n_grams: select the n-gram\n",
    "    :param labels: list of response labels for each document\n",
    "    :param top_n_tokens: select the top n\n",
    "    :return: None\n",
    "    Sources: https://github.com/mwaskom/seaborn/issues/867#issuecomment-184918644\n",
    "    \"\"\"\n",
    "    # initialize empty df\n",
    "    top_chi2_df = pd.DataFrame(columns=['stars', 'feature_name', 'chi2_value'])\n",
    "    for response_label_value in RESPONSE_LABEL_VALUES:   \n",
    "        features_chi2 = chi2(dtm, labels==response_label_value) # calc chi^2 for the class\n",
    "        indices = np.argsort(features_chi2[0]) # get the sorted indices\n",
    "        feature_names_sorted = np.array(feature_names)[indices] # sort feature names ascendinglyly    \n",
    "        top_feature_names = feature_names_sorted[-top_n_tokens:]\n",
    "        top_chi2_values = np.sort(features_chi2[0])[-top_n_tokens:]\n",
    "        stars_df = pd.DataFrame({'stars': np.repeat(response_label_value, top_n_tokens), \n",
    "                                 'feature_name': top_feature_names,\n",
    "                                 'chi2_value': top_chi2_values})   \n",
    "        top_chi2_df = pd.concat([top_chi2_df, stars_df], sort=True)\n",
    "\n",
    "    # create Faceted Grid Plot\n",
    "    g = sns.FacetGrid(col=\"stars\", col_wrap=3, sharex=False, margin_titles=True, data=top_chi2_df)\n",
    "    g.map(sns.barplot, \"feature_name\", \"chi2_value\", color=\"steelblue\")\n",
    "    [plt.setp(ax.get_xticklabels(), rotation=45, fontsize=18) for ax in g.axes.flat]\n",
    "    sns.set(font_scale=2)\n",
    "    plt.subplots_adjust(hspace=.75, wspace=.2) # https://stackoverflow.com/a/43699744/4463701\n",
    "    g.fig.set_size_inches(15,15) # https://stackoverflow.com/a/46346780/4463701\n",
    "\n",
    "# https://scikit-learn.org/stable/modules/generated/sklearn.feature_selection.chi2.html\n",
    "# https://github.com/scikit-learn/scikit-learn/blob/55bf5d9/sklearn/feature_selection/univariate_selection.py#L172\n"
   ]
  },
  {
   "cell_type": "markdown",
   "metadata": {},
   "source": [
    "We observe the following:\n",
    "\n",
    "- Our \"exclamationpoint\" feature has the highest chi-squared value for star ratings 2, 3 & 5. \n",
    "\n",
    "- Unexpectedly, the term \"not\" is very relevant to the 5 stars class. The other negative stopwords \"no\" and \"nor\" did not make the top ten list.\n",
    "\n",
    "- In the 1-star class, the top words appropriately include \"money\", \"refund\" and \"manager.\"  We also notice that test statitics are much higher than all of the other classes. Let's see if the 1-star rating ends up being the easiest class to predict.\n",
    "\n",
    "- In the 3-star class, the top words appropriately include \"ok,\" \"decent\" and \"average\"\n",
    "\n",
    "- In the 5-star class, the top words appropriately include \"great,\" \"best\", \"awesome\" and \"amazing.\""
   ]
  },
  {
   "cell_type": "code",
   "execution_count": null,
   "metadata": {},
   "outputs": [],
   "source": [
    "plot_most_correlated_tokens(unigram_dtm, unigram_feature_names)"
   ]
  },
  {
   "cell_type": "markdown",
   "metadata": {},
   "source": [
    "### Unigram Modeling\n",
    "\n",
    "We are going to try our unigram features with three models, including linear support vector machines (SVM), multinomial naive Bayes (NB) and multinomial logistic regression (logreg), also known as maximum entropy. We are using the multinomial forms of the latter two since we are predicting more than two classes.\n",
    "\n",
    "We are going to reserve 25% of the reviews for a test data set and will perform a 5-fold cross validation on our training data set.\n"
   ]
  },
  {
   "cell_type": "code",
   "execution_count": null,
   "metadata": {},
   "outputs": [],
   "source": [
    "X_train_indices, X_test_indices, y_train, y_test = train_test_split(raw_data.index,\\\n",
    "                                                                    raw_data.stars,\\\n",
    "                                                                    test_size=.25,\\\n",
    "                                                                    random_state = 0)\n",
    "\n",
    "models = [\n",
    "    LinearSVC(random_state=0),\n",
    "    MultinomialNB(),\n",
    "    LogisticRegression(random_state=0),\n",
    "]\n",
    "\n",
    "CV = 5\n",
    "\n",
    "def perform_cross_val(models, X_train, y_train, cv=CV):\n",
    "    \"\"\"\n",
    "    perform cross-validation model fitting\n",
    "    and returns the results\n",
    "    \n",
    "    :param models: list of sci-kit learn model classes\n",
    "    :param X_train: training data set\n",
    "    :param y_train: response labels\n",
    "    :param cv: # of folds\n",
    "    :return: a df with the accuracies for each model and fold\n",
    "    \"\"\"\n",
    "    entries = []\n",
    "    for model in models:\n",
    "      model_name = model.__class__.__name__\n",
    "      accuracies = cross_val_score(model, X_train, y_train, scoring='accuracy', cv=cv)\n",
    "      for fold_idx, accuracy in enumerate(accuracies):\n",
    "        entries.append((model_name, fold_idx, accuracy))\n",
    "      \n",
    "    return pd.DataFrame(entries, columns=['model_name', 'fold_idx', 'accuracy'])\n",
    "\n",
    "unigram_cv_results = perform_cross_val(models, unigram_dtm[X_train_indices, ], y_train)"
   ]
  },
  {
   "cell_type": "markdown",
   "metadata": {},
   "source": [
    "The `plot_cv_results` function shows the distributions of the accuracy metrics for each fold in each of our models.\n"
   ]
  },
  {
   "cell_type": "code",
   "execution_count": null,
   "metadata": {},
   "outputs": [],
   "source": [
    "def plot_cv_results(cv_df):\n",
    "    \"\"\"\n",
    "    Plots the distributions of the accuracy metrics \n",
    "    for each fold in each of our models.\n",
    "    \n",
    "    :param cv_df: the output df from perform_cross_val\n",
    "    :return: None\n",
    "    \"\"\"\n",
    "    plt.figure(figsize=[10, 10])\n",
    "    sns.boxplot(x='model_name', y='accuracy', data=cv_df)\n",
    "    f = sns.stripplot(x='model_name', y='accuracy', data=cv_df, \n",
    "                  size=8, jitter=True, edgecolor=\"gray\", linewidth=2)\n",
    "    f.xaxis.tick_top() # x labels on top\n",
    "    plt.setp(f.get_xticklabels(), rotation=30, fontsize=20) # rotate and increase x labels\n",
    "\n",
    "    plt.show()\n",
    "    display(cv_df[['model_name', 'accuracy']]\\\n",
    "                 .groupby('model_name')\\\n",
    "                 .mean().sort_values(by='accuracy', ascending=False))\n"
   ]
  },
  {
   "cell_type": "markdown",
   "metadata": {},
   "source": [
    "Of our 3 unigram models, the logreg model performed the best with a mean 5-fold accuracy of 64.48%, followed closely by SVC and then NB."
   ]
  },
  {
   "cell_type": "code",
   "execution_count": null,
   "metadata": {},
   "outputs": [],
   "source": [
    "plot_cv_results(unigram_cv_results)"
   ]
  },
  {
   "cell_type": "markdown",
   "metadata": {},
   "source": [
    "### Bigram Modeling"
   ]
  },
  {
   "cell_type": "code",
   "execution_count": null,
   "metadata": {},
   "outputs": [],
   "source": [
    "bigram_dtm, bigram_feature_names = create_n_gram_dtm(raw_data.text_porter_stemmed, 2, 2)\n",
    "\n",
    "plot_most_correlated_tokens(bigram_dtm, bigram_feature_names)\n",
    "\n"
   ]
  },
  {
   "cell_type": "code",
   "execution_count": null,
   "metadata": {},
   "outputs": [],
   "source": [
    "bigram_cv_results = perform_cross_val(models, bigram_dtm[X_train_indices, ], y_train)\n",
    "plot_cv_results(bigram_cv_results)"
   ]
  },
  {
   "cell_type": "markdown",
   "metadata": {},
   "source": [
    "### Trigram Modeling"
   ]
  },
  {
   "cell_type": "code",
   "execution_count": null,
   "metadata": {},
   "outputs": [],
   "source": [
    "trigram_dtm, trigram_feature_names = create_n_gram_dtm(raw_data.text_porter_stemmed, 3, 3)\n",
    "\n",
    "plot_most_correlated_tokens(trigram_dtm, trigram_feature_names)"
   ]
  },
  {
   "cell_type": "code",
   "execution_count": null,
   "metadata": {},
   "outputs": [],
   "source": [
    "trigram_cv_results = perform_cross_val(models, trigram_dtm[X_train_indices, ], y_train)\n",
    "\n",
    "\n",
    "plot_cv_results(trigram_cv_results)"
   ]
  },
  {
   "cell_type": "code",
   "execution_count": null,
   "metadata": {},
   "outputs": [],
   "source": []
  },
  {
   "cell_type": "code",
   "execution_count": null,
   "metadata": {},
   "outputs": [],
   "source": []
  },
  {
   "cell_type": "code",
   "execution_count": null,
   "metadata": {},
   "outputs": [],
   "source": []
  },
  {
   "cell_type": "code",
   "execution_count": null,
   "metadata": {},
   "outputs": [],
   "source": [
    "\n",
    "# analyzer = CountVectorizer().build_analyzer() \n",
    "\n",
    "# def stem_text(doc):\n",
    "#     \"\"\"\n",
    "#     Passed as the callable for sklearn.feature_extraction.text classes\n",
    "#     Each token is stemmed and returned if it meets the conditions\n",
    "#     Source: https://stackoverflow.com/a/36191362/4463701\n",
    "#     \"\"\"\n",
    "#     return (stemmer.stem(token) for token in analyzer(doc)\\\n",
    "#             if token.isalpha() and len(token) > 1 and token not in revised_stopwords)\n",
    "\n",
    "# def text_processor_nltk(word):\n",
    "#     \"\"\"\"\"\"\n",
    "#         return stemmer.stem(word).lower() if word.isalpha() and len(word) > 1 and word not in revised_stopwords\n",
    "    \n",
    "#text_cleaned = list(map(text_cleaner_v1, nl_text))\n",
    "text_cleaned = list(map(, nl_text))\n",
    "\n",
    "# plt.figure(figsize=(15, 15))\n",
    "# sns.boxplot(x='useful', y='stars', orient='h', fliersize=1, data=raw_data)\n",
    "\n",
    "# plt.figure(figsize=(15, 15))\n",
    "# sns.boxplot(x='useful', y='stars', orient='h', fliersize=1, data=raw_data)\n",
    "\n",
    "# sns.set(style=\"darkgrid\")\n",
    "\n",
    "# plt.figure(figsize=(9, 15))\n",
    "# g = sns.FacetGrid(raw_data, col=\"stars\", margin_titles=True)\n",
    "# bins = np.linspace(0, np.max(raw_data['useful']), )\n",
    "# g.map(plt.hist, \"useful\", color=\"steelblue\", bins=bins)\n",
    "\n",
    "# sns.distplot(raw_data['useful'])\n",
    "# sns.heatmap(raw_data[['stars', 'useful']].pivot_table(index='useful', columns='stars'))\n",
    "\n",
    "# sns.heatmap(raw_data.groupby(['stars', 'useful']).size().unstack(fill_value=0))\n",
    "# https://stackoverflow.com/a/40839983/4463701"
   ]
  }
 ],
 "metadata": {
  "kernelspec": {
   "display_name": "Python 3",
   "language": "python",
   "name": "python3"
  },
  "language_info": {
   "codemirror_mode": {
    "name": "ipython",
    "version": 3
   },
   "file_extension": ".py",
   "mimetype": "text/x-python",
   "name": "python",
   "nbconvert_exporter": "python",
   "pygments_lexer": "ipython3",
   "version": "3.6.5"
  }
 },
 "nbformat": 4,
 "nbformat_minor": 1
}
