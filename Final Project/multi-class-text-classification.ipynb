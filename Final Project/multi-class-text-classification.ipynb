{
 "cells": [
  {
   "cell_type": "markdown",
   "metadata": {
    "collapsed": true
   },
   "source": [
    "# CUNY DATA620 Final Project\n",
    "\n",
    "## Kyle Gilde\n",
    "\n",
    "## 12/15/2018\n",
    "\n",
    "\n",
    "Gleaning information from customer reviews presents both challenges and opportunities for businesses. The challenges include bringing a formal, objective structure to unstructured, subjective natural language, while the results can yield valuable insights into customer attitudes towards the business.\n",
    "\n",
    "For the final project, I will attempt to build a machine learning classification model that uses text of customer reviews to predict the review's numerical `star` rating. In effect, we will see if we can build a sentiment analysis classifier.\n",
    "\n",
    "We will experiment with different natural language processing techniques to normalize the text and with different machine learning algorithms.\n",
    "\n",
    "I took advantage of the [Yelp Open Dataset](https://www.yelp.com/dataset), which the company makes available for non-commercial use. "
   ]
  },
  {
   "cell_type": "code",
   "execution_count": 3,
   "metadata": {},
   "outputs": [],
   "source": [
    "import numpy as np\n",
    "import pandas as pd\n",
    "import matplotlib.pyplot as plt\n",
    "import seaborn as sns\n",
    "\n",
    "import nltk\n",
    "from nltk.corpus import stopwords\n",
    "\n",
    "from sklearn.feature_extraction.text import TfidfVectorizer, CountVectorizer\n",
    "from sklearn.feature_selection import chi2\n",
    "from sklearn.model_selection import train_test_split\n",
    "from sklearn.naive_bayes import GaussianNB\n",
    "from sklearn.metrics import classification_report, accuracy_score, confusion_matrix"
   ]
  },
  {
   "cell_type": "markdown",
   "metadata": {},
   "source": [
    "## Exploratory Data Analysis\n",
    "\n",
    "From the original 6 million reviews, I used [this Python script](https://github.com/kylegilde/D620-Web-Analytics/blob/master/Final%20Project/resize-data.py) to retain only the reviews that were written starting in 2016 and that at least 10 other Yelp customers deemed \"useful\". The latter condition should reduce the amount of random noise caused by poorly written reviews.  With these conditions, our data set was over 33K reviews."
   ]
  },
  {
   "cell_type": "code",
   "execution_count": 20,
   "metadata": {},
   "outputs": [
    {
     "name": "stdout",
     "output_type": "stream",
     "text": [
      "<class 'pandas.core.frame.DataFrame'>\n",
      "RangeIndex: 33255 entries, 0 to 33254\n",
      "Data columns (total 3 columns):\n",
      "stars     33255 non-null int64\n",
      "text      33255 non-null object\n",
      "useful    33255 non-null int64\n",
      "dtypes: int64(2), object(1)\n",
      "memory usage: 779.5+ KB\n"
     ]
    }
   ],
   "source": [
    "raw_data = pd.read_csv('D:/documents/yelp_reviews.csv')[['stars', 'text', 'useful']]\n",
    "raw_data.info()"
   ]
  },
  {
   "cell_type": "markdown",
   "metadata": {},
   "source": [
    "### The Response Variable\n",
    "\n",
    "Our `star` response variable contains 5 imbalanced classes. The top rating of 5 is most common, closely followed by 4 and then 1. 2 stars is the least common class, followed by 3."
   ]
  },
  {
   "cell_type": "code",
   "execution_count": 35,
   "metadata": {
    "scrolled": true
   },
   "outputs": [
    {
     "data": {
      "text/plain": [
       "<matplotlib.axes._subplots.AxesSubplot at 0x16d10ec7ef0>"
      ]
     },
     "execution_count": 35,
     "metadata": {},
     "output_type": "execute_result"
    },
    {
     "data": {
      "image/png": "[encoded data removed]",
      "text/plain": [
       "<Figure size 648x1080 with 1 Axes>"
      ]
     },
     "metadata": {},
     "output_type": "display_data"
    }
   ],
   "source": [
    "plt.figure(figsize=(9, 15))\n",
    "sns.countplot(x='stars', data=raw_data)"
   ]
  },
  {
   "cell_type": "markdown",
   "metadata": {},
   "source": [
    "### The Reviews\n",
    "\n",
    "First, let's take a look at the most useful review from each star level. We observe the following:\n",
    "\n",
    "- the reviews associated with bad ratings have more words that are completely capitalized and possibly more exclamation points.\n",
    "- the negative reviews seem to have more words of negation, e.g. \"no\" & \"not\". Normally, these words would be removed from the text when we remove stopwords. However, for our purposes, we may want to consider leaving them in.\n",
    "- we should see if the length of the review is positively correlated with the rating.\n"
   ]
  },
  {
   "cell_type": "code",
   "execution_count": 122,
   "metadata": {
    "scrolled": true
   },
   "outputs": [
    {
     "data": {
      "text/html": [
       "<div>\n",
       "<style scoped>\n",
       "    .dataframe tbody tr th:only-of-type {\n",
       "        vertical-align: middle;\n",
       "    }\n",
       "\n",
       "    .dataframe tbody tr th {\n",
       "        vertical-align: top;\n",
       "    }\n",
       "\n",
       "    .dataframe thead th {\n",
       "        text-align: right;\n",
       "    }\n",
       "</style>\n",
       "<table border=\"1\" class=\"dataframe\">\n",
       "  <thead>\n",
       "    <tr style=\"text-align: right;\">\n",
       "      <th></th>\n",
       "      <th>stars</th>\n",
       "      <th>text</th>\n",
       "    </tr>\n",
       "  </thead>\n",
       "  <tbody>\n",
       "    <tr>\n",
       "      <th>0</th>\n",
       "      <td>1</td>\n",
       "      <td>Was in Scottsdale visiting a friend and we stopped by here for a bite to eat. Possibly one of the worst dining experiences I have ever had. The owner (at least I think he was the owner) came out from the back of the kitchen and almost assaulted another patron for complaining that his meal was frozen solid in the middle. The couple quickly left the restaurant and we had a chuckle at this odd behavior but waited for our pizza. \\r\\n\\r\\nWhen our pizza finally came it was AWFUL! Growing up in NY I am a bit of a pizza snob and let me tell you, this barely passed as edible. It was cold, the cheese wasn't fully cooked and looked like it might have actually been a microwavable pizza. When I asked if they could heat it in the oven for longer they copped the biggest attitude and made us wait for 30 minutes. Absolutely terrible! Eventually we just got up and let after leaving a tip for the waitress.\\r\\n\\r\\nI honestly thought I might have been on some type of reality TV show, that's how insanely BAD this place is!</td>\n",
       "    </tr>\n",
       "    <tr>\n",
       "      <th>1</th>\n",
       "      <td>2</td>\n",
       "      <td>With all the chemicals, pesticides, pollution, GMO's and hormone injected food, Whole Food stood up to provide organic food. However I think I just ate a gasoline brisket at this location. \\r\\n\\r\\nI like Whole Foods bread, salads and food bar. When I'm home in Chicago, I eat at WF every single day. Big fan. Recently I stopped by this location on my way to Pittsburgh airport. From outside, this location looks neat and brand new. It's spacious from the inside and has plenty of indoors and outside seats. \\r\\n\\r\\nI was all happy until I tasted the food. I added a piece of brisket, one piece of fried chicken and one chicken drumstick to my salad. Oh man!! When I opened the salad box, a strong petroleum smell slapped my nose. I found out it was coming from the brisket. I think they marinated the brisket in gasoline and charcoal. It was tender, but not edible. So I discarded it. The fried chicken was bone dry so I didn't eat it. The roasted chicken drumstick felt you're biting into big chunks of dry spices rub, ugh!. Left it alone as well. The green vegetables I added were really fresh and nice. But the gasoline taste overwhelmed everything. \\r\\n\\r\\nTo buy groceries, I think this WF is great and standard. For the food section, it would be nice if the manager or the cooks could taste the food before serving it. I was tired and in a hurry to complain about that gasoline charcoal brisket.</td>\n",
       "    </tr>\n",
       "    <tr>\n",
       "      <th>2</th>\n",
       "      <td>3</td>\n",
       "      <td>Nutter Butter, Chips Ahoy! and Oreo cookie made into an awesome doughnut?! \\r\\n\\r\\nYes, please! \\r\\n\\r\\nHere's how the fabulous trio scored in taste and originality. \\r\\n\\r\\nThe Nutter Butter Cookie Twist Doughnut; covered in Krispy Kreme's signature glaze, dipped in peanut butter icing, topped with real Nutter Butter cookie pieces, then drizzled with more of the peanut butter icing. Phew! A lot of dipping and drizzling for a doughnut! \\r\\n\\r\\nAll worth the work for it actually tasted like the Nutter Butter cookies! Not too overpowering on the peanut butter taste, overall, this was my favorite of the three. \\r\\n\\r\\nThe Chips Ahoy! Doughnut; with cookie dough Kreme, topped with melted dark chocolate and a mini Chips Ahoy cookie. \\r\\n\\r\\nOne of the best dressed, but, it was super sweet, tasted like a regular Kreme doughnut and sort of a spin off of the Boston Cream pastry. It didn't have the cookie inspiration I was looking for. \\r\\n\\r\\nLastly, making its return, by popular demand, the Oreo Cookies and Kreme doughnut; Stuffed with an Oreo cookie flavored cream, then coated in dark chocolate icing, topped with Oreo cookie crumbles and finished off with a drizzle of icing.\\r\\n\\r\\nAgain a miss in the Oreo goodness. Very light in the cookies and cream flavor and the chocolate wasn't sharp enough. \\r\\n\\r\\nThere you have it. Do remember that all their doughnuts are ingredient Kosher, where certain factors are limited into getting that full, flavored taste that we are looking for. Still, an imaginative mash up. \\r\\n\\r\\n\"So, whatever sprinkles your doughnuts, is fine by me for you are all sprinkles on my doughnuts!\"</td>\n",
       "    </tr>\n",
       "    <tr>\n",
       "      <th>3</th>\n",
       "      <td>4</td>\n",
       "      <td>Ribeye phenomena:\\r\\n\\r\\nThis is definitely a unique dish that you probably won't experience somewhere else. It's designed for two big hungry dudes or 2 steelers maybe. It's a 34 oz bone-in ribeye topped with mushroom Ragu, bone marrow gratin and confit fries. FYI, for metric system folks, 34 oz ~ 1 kg. Warning: it's a giant dish!. We boxed half of it.  Seriously, you can't order this if you're going out on a date with a delicate fine lady. It looks exactly like a dinner for a Viking king. People sitting around us were curiously uninhibitedly staring at the dish.  It was delicious! Although I wasn't a fan of the mushrooms on top. The meat was perfectly cooked, juicy and tender. Bone marrow was wonderful!. Confit fries were not good. They were hard, overcooked, soaked with fat and bland. My suggestion for improvement is to eliminate the fries or use regular fries like McDonald's. Some people like the mushrooms topping, personally I think it was unnecessary. A good steak doesn't need any topping other than salt and pepper. \\r\\n\\r\\nWe walked in around 5 pm without a reservation. Waited for 45 minutes, spent it walking around the pretty Cultural District. Pittsburgh has a Chicago or New York touch. Atmosphere here is classic. Bar area is in the middle and seats are around it in a rectangle shape. We asked the waitress to change our seats from a tiny table to a bigger one. That was thankfully granted. \\r\\n\\r\\nDuring my brisk visit with Pittsburgh, I wanted to pay one of my good friends back. He genuinely showed extraordinary hospitality. You can never pay nice people back. But it was a good hint coming here.</td>\n",
       "    </tr>\n",
       "    <tr>\n",
       "      <th>4</th>\n",
       "      <td>5</td>\n",
       "      <td>The Wynn Hotel. One word. Opulent. \\r\\n\\r\\nWynn, is a luxury resort and casino located on the Las Vegas Strip. Named after the casino developer Steve Wynn, this $2.7 billion resort together with Encore is the world's seventh-largest hotels and one of the finest in the world. \\r\\n\\r\\nHolding the title for the highest rated resort company in the world with 16 Forbes Travel Guide Five-Star Awards, AAA five diamond, Mobil five-star, Michelin five star, and Zagat Survey Top U.S. Hotel ratings, as well as one Michelin star for its restaurant Wing Lei, the first Chinese restaurant to receive a Michelin Star in the country. \\r\\n\\r\\nThe Wynn is a genre almost entirely their own. Talk about a blend of opulent creativity and seductive comfort. Wynn Hotel designer Roger Thomas calls it \"Evocatect.\" The \"architecture that evokes wonderful moments in people's lives.\" \\r\\n\\r\\nShare a moment alone or with someone special and walk through the sunlit Atrium, gaze at the immense beauty of the Parasols, dine at one of their Four-Star Award-winning restaurants, which holds more awards than any other independent resort in North America, shop at Chanel, Dior, or Louie Vuitton just to name a few, enjoy their epic casino gaming floor or just take a load off and stay at one of their exquisite rooms. \\r\\n\\r\\nWhatever you decide to do at the Wynn, their magnificent ambience and hospitality will create such an extraordinary emotional experience you will never forget.</td>\n",
       "    </tr>\n",
       "  </tbody>\n",
       "</table>\n",
       "</div>"
      ],
      "text/plain": [
       "   stars  \\\n",
       "0  1       \n",
       "1  2       \n",
       "2  3       \n",
       "3  4       \n",
       "4  5       \n",
       "\n",
       "                                                                                                                                                                                                                                                                                                                                                                                                                                                                                                                                                                                                                                                                                                                                                                                                                                                                                                                                                                                                                                                                                                                                                                                                                                                                                                                                                                                                                                                                                                                                                                                                                                                                                                text  \n",
       "0  Was in Scottsdale visiting a friend and we stopped by here for a bite to eat. Possibly one of the worst dining experiences I have ever had. The owner (at least I think he was the owner) came out from the back of the kitchen and almost assaulted another patron for complaining that his meal was frozen solid in the middle. The couple quickly left the restaurant and we had a chuckle at this odd behavior but waited for our pizza. \\r\\n\\r\\nWhen our pizza finally came it was AWFUL! Growing up in NY I am a bit of a pizza snob and let me tell you, this barely passed as edible. It was cold, the cheese wasn't fully cooked and looked like it might have actually been a microwavable pizza. When I asked if they could heat it in the oven for longer they copped the biggest attitude and made us wait for 30 minutes. Absolutely terrible! Eventually we just got up and let after leaving a tip for the waitress.\\r\\n\\r\\nI honestly thought I might have been on some type of reality TV show, that's how insanely BAD this place is!                                                                                                                                                                                                                                                                                                                                                                                                                                                                                                                                                                                                                                           \n",
       "1  With all the chemicals, pesticides, pollution, GMO's and hormone injected food, Whole Food stood up to provide organic food. However I think I just ate a gasoline brisket at this location. \\r\\n\\r\\nI like Whole Foods bread, salads and food bar. When I'm home in Chicago, I eat at WF every single day. Big fan. Recently I stopped by this location on my way to Pittsburgh airport. From outside, this location looks neat and brand new. It's spacious from the inside and has plenty of indoors and outside seats. \\r\\n\\r\\nI was all happy until I tasted the food. I added a piece of brisket, one piece of fried chicken and one chicken drumstick to my salad. Oh man!! When I opened the salad box, a strong petroleum smell slapped my nose. I found out it was coming from the brisket. I think they marinated the brisket in gasoline and charcoal. It was tender, but not edible. So I discarded it. The fried chicken was bone dry so I didn't eat it. The roasted chicken drumstick felt you're biting into big chunks of dry spices rub, ugh!. Left it alone as well. The green vegetables I added were really fresh and nice. But the gasoline taste overwhelmed everything. \\r\\n\\r\\nTo buy groceries, I think this WF is great and standard. For the food section, it would be nice if the manager or the cooks could taste the food before serving it. I was tired and in a hurry to complain about that gasoline charcoal brisket.                                                                                                                                                                                                                                          \n",
       "2  Nutter Butter, Chips Ahoy! and Oreo cookie made into an awesome doughnut?! \\r\\n\\r\\nYes, please! \\r\\n\\r\\nHere's how the fabulous trio scored in taste and originality. \\r\\n\\r\\nThe Nutter Butter Cookie Twist Doughnut; covered in Krispy Kreme's signature glaze, dipped in peanut butter icing, topped with real Nutter Butter cookie pieces, then drizzled with more of the peanut butter icing. Phew! A lot of dipping and drizzling for a doughnut! \\r\\n\\r\\nAll worth the work for it actually tasted like the Nutter Butter cookies! Not too overpowering on the peanut butter taste, overall, this was my favorite of the three. \\r\\n\\r\\nThe Chips Ahoy! Doughnut; with cookie dough Kreme, topped with melted dark chocolate and a mini Chips Ahoy cookie. \\r\\n\\r\\nOne of the best dressed, but, it was super sweet, tasted like a regular Kreme doughnut and sort of a spin off of the Boston Cream pastry. It didn't have the cookie inspiration I was looking for. \\r\\n\\r\\nLastly, making its return, by popular demand, the Oreo Cookies and Kreme doughnut; Stuffed with an Oreo cookie flavored cream, then coated in dark chocolate icing, topped with Oreo cookie crumbles and finished off with a drizzle of icing.\\r\\n\\r\\nAgain a miss in the Oreo goodness. Very light in the cookies and cream flavor and the chocolate wasn't sharp enough. \\r\\n\\r\\nThere you have it. Do remember that all their doughnuts are ingredient Kosher, where certain factors are limited into getting that full, flavored taste that we are looking for. Still, an imaginative mash up. \\r\\n\\r\\n\"So, whatever sprinkles your doughnuts, is fine by me for you are all sprinkles on my doughnuts!\"  \n",
       "3  Ribeye phenomena:\\r\\n\\r\\nThis is definitely a unique dish that you probably won't experience somewhere else. It's designed for two big hungry dudes or 2 steelers maybe. It's a 34 oz bone-in ribeye topped with mushroom Ragu, bone marrow gratin and confit fries. FYI, for metric system folks, 34 oz ~ 1 kg. Warning: it's a giant dish!. We boxed half of it.  Seriously, you can't order this if you're going out on a date with a delicate fine lady. It looks exactly like a dinner for a Viking king. People sitting around us were curiously uninhibitedly staring at the dish.  It was delicious! Although I wasn't a fan of the mushrooms on top. The meat was perfectly cooked, juicy and tender. Bone marrow was wonderful!. Confit fries were not good. They were hard, overcooked, soaked with fat and bland. My suggestion for improvement is to eliminate the fries or use regular fries like McDonald's. Some people like the mushrooms topping, personally I think it was unnecessary. A good steak doesn't need any topping other than salt and pepper. \\r\\n\\r\\nWe walked in around 5 pm without a reservation. Waited for 45 minutes, spent it walking around the pretty Cultural District. Pittsburgh has a Chicago or New York touch. Atmosphere here is classic. Bar area is in the middle and seats are around it in a rectangle shape. We asked the waitress to change our seats from a tiny table to a bigger one. That was thankfully granted. \\r\\n\\r\\nDuring my brisk visit with Pittsburgh, I wanted to pay one of my good friends back. He genuinely showed extraordinary hospitality. You can never pay nice people back. But it was a good hint coming here.     \n",
       "4  The Wynn Hotel. One word. Opulent. \\r\\n\\r\\nWynn, is a luxury resort and casino located on the Las Vegas Strip. Named after the casino developer Steve Wynn, this $2.7 billion resort together with Encore is the world's seventh-largest hotels and one of the finest in the world. \\r\\n\\r\\nHolding the title for the highest rated resort company in the world with 16 Forbes Travel Guide Five-Star Awards, AAA five diamond, Mobil five-star, Michelin five star, and Zagat Survey Top U.S. Hotel ratings, as well as one Michelin star for its restaurant Wing Lei, the first Chinese restaurant to receive a Michelin Star in the country. \\r\\n\\r\\nThe Wynn is a genre almost entirely their own. Talk about a blend of opulent creativity and seductive comfort. Wynn Hotel designer Roger Thomas calls it \"Evocatect.\" The \"architecture that evokes wonderful moments in people's lives.\" \\r\\n\\r\\nShare a moment alone or with someone special and walk through the sunlit Atrium, gaze at the immense beauty of the Parasols, dine at one of their Four-Star Award-winning restaurants, which holds more awards than any other independent resort in North America, shop at Chanel, Dior, or Louie Vuitton just to name a few, enjoy their epic casino gaming floor or just take a load off and stay at one of their exquisite rooms. \\r\\n\\r\\nWhatever you decide to do at the Wynn, their magnificent ambience and hospitality will create such an extraordinary emotional experience you will never forget.                                                                                                                                                                             "
      ]
     },
     "execution_count": 122,
     "metadata": {},
     "output_type": "execute_result"
    }
   ],
   "source": [
    "most_useful_review_idx = raw_data.groupby('stars')['useful'].idxmax()\n",
    "most_useful_reviews = raw_data.loc[most_useful_review_idx, ['stars','text']].reset_index(drop=True)\n",
    "\n",
    "pd.set_option('display.max_colwidth', 0)\n",
    "#most_useful_reviews.iloc[[0, -1]]\n",
    "most_useful_reviews"
   ]
  },
  {
   "cell_type": "markdown",
   "metadata": {},
   "source": [
    "Contrary to what we suspected, the 5-star level has the least number of words, and the 2-star rating has the most."
   ]
  },
  {
   "cell_type": "code",
   "execution_count": 241,
   "metadata": {},
   "outputs": [
    {
     "data": {
      "text/plain": [
       "<matplotlib.axes._subplots.AxesSubplot at 0x17b00fe32e8>"
      ]
     },
     "execution_count": 241,
     "metadata": {},
     "output_type": "execute_result"
    },
    {
     "data": {
      "image/png": "[encoded data removed]",
      "text/plain": [
       "<Figure size 1080x1080 with 1 Axes>"
      ]
     },
     "metadata": {},
     "output_type": "display_data"
    }
   ],
   "source": [
    "plt.figure(figsize=(15, 15))\n",
    "# count words per review\n",
    "raw_data['n_words'] = raw_data.text.str.lower().str.split().apply(len)\n",
    "sns.boxplot(x='stars', y='n_words', fliersize=1, data=raw_data)"
   ]
  },
  {
   "cell_type": "markdown",
   "metadata": {},
   "source": [
    "Next, let's use `nltk ` to normalize the our corpus and take a look at the most common words per star rating.\n",
    "The normalization includes:\n",
    "\n",
    "- converting the text to lowercase\n",
    "- keeping only the tokens that begin with an alphabetic character\n",
    "- keeping only the tokens with a length greater than 1\n",
    "- removing the stopwords"
   ]
  },
  {
   "cell_type": "code",
   "execution_count": 335,
   "metadata": {},
   "outputs": [],
   "source": [
    "stemmer = nltk.PorterStemmer()\n",
    "revised_stopwords = [word for word in stopwords.words('english') if not word.endswith(\"n't\") and word not in ['not', 'nor', 'no']] \n",
    "\n",
    "def stem_and_clean_text(doc):\n",
    "    \"\"\"\n",
    "    Passed as the callable to Pandas.apply()\n",
    "    Each token is stemmed and returned if it meets the conditions\n",
    "    Sources: https://stackoverflow.com/a/36191362/4463701\n",
    "    https://stackoverflow.com/a/51281480/4463701\n",
    "    \"\"\"\n",
    "    stemmed_tokens = [stemmer.stem(token) for token in doc.split()\\\n",
    "                      if token.isalpha() and len(token) > 1 and token not in revised_stopwords]\n",
    "    return ' '.join(stemmed_tokens) \n",
    "\n",
    "raw_data['text_stemmed'] = raw_data.text.apply(stem_and_clean_text)"
   ]
  },
  {
   "cell_type": "code",
   "execution_count": 346,
   "metadata": {},
   "outputs": [],
   "source": [
    "token_counts = CountVectorizer(min_df=10,  \n",
    "                               strip_accents='ascii',\n",
    "                               ngram_range=(1, 3))\n",
    "\n",
    "dtm_counts = token_counts.fit_transform(raw_data.text_stemmed)\n",
    "\n",
    "# https://scikit-learn.org/stable/modules/generated/sklearn.feature_extraction.text.CountVectorizer.html#sklearn.feature_extraction.text.CountVectorizer"
   ]
  },
  {
   "cell_type": "code",
   "execution_count": 349,
   "metadata": {},
   "outputs": [
    {
     "data": {
      "text/html": [
       "<div>\n",
       "<style scoped>\n",
       "    .dataframe tbody tr th:only-of-type {\n",
       "        vertical-align: middle;\n",
       "    }\n",
       "\n",
       "    .dataframe tbody tr th {\n",
       "        vertical-align: top;\n",
       "    }\n",
       "\n",
       "    .dataframe thead th {\n",
       "        text-align: right;\n",
       "    }\n",
       "</style>\n",
       "<table border=\"1\" class=\"dataframe\">\n",
       "  <thead>\n",
       "    <tr style=\"text-align: right;\">\n",
       "      <th></th>\n",
       "      <th>stars</th>\n",
       "      <th>n_gram</th>\n",
       "      <th>tokens</th>\n",
       "    </tr>\n",
       "  </thead>\n",
       "  <tbody>\n",
       "  </tbody>\n",
       "</table>\n",
       "</div>"
      ],
      "text/plain": [
       "Empty DataFrame\n",
       "Columns: [stars, n_gram, tokens]\n",
       "Index: []"
      ]
     },
     "execution_count": 349,
     "metadata": {},
     "output_type": "execute_result"
    }
   ],
   "source": [
    "most_correlated_n_grams = pd.DataFrame(columns=['stars', 'n_gram', 'tokens'])"
   ]
  },
  {
   "cell_type": "code",
   "execution_count": 396,
   "metadata": {},
   "outputs": [
    {
     "ename": "TypeError",
     "evalue": "'int' object is not iterable",
     "output_type": "error",
     "traceback": [
      "\u001b[1;31m---------------------------------------------------------------------------\u001b[0m",
      "\u001b[1;31mTypeError\u001b[0m                                 Traceback (most recent call last)",
      "\u001b[1;32m<ipython-input-396-eee9389c0d49>\u001b[0m in \u001b[0;36m<module>\u001b[1;34m()\u001b[0m\n\u001b[0;32m      2\u001b[0m \u001b[1;33m\u001b[0m\u001b[0m\n\u001b[0;32m      3\u001b[0m \u001b[1;33m\u001b[0m\u001b[0m\n\u001b[1;32m----> 4\u001b[1;33m \u001b[0mcorrelated_n_grams\u001b[0m \u001b[1;33m=\u001b[0m \u001b[0mpd\u001b[0m\u001b[1;33m.\u001b[0m\u001b[0mDataFrame\u001b[0m\u001b[1;33m(\u001b[0m\u001b[0mlist\u001b[0m\u001b[1;33m(\u001b[0m\u001b[0mproduct\u001b[0m\u001b[1;33m(\u001b[0m\u001b[0mn_gram_max\u001b[0m\u001b[1;33m,\u001b[0m \u001b[0mresponse_labels\u001b[0m\u001b[1;33m)\u001b[0m\u001b[1;33m)\u001b[0m\u001b[1;33m,\u001b[0m \u001b[0mcolumns\u001b[0m\u001b[1;33m=\u001b[0m\u001b[1;33m[\u001b[0m\u001b[1;34m'n_gram'\u001b[0m\u001b[1;33m,\u001b[0m \u001b[1;34m'stars'\u001b[0m\u001b[1;33m,\u001b[0m \u001b[1;34m'tokens'\u001b[0m\u001b[1;33m,\u001b[0m \u001b[1;34m'document_freq'\u001b[0m\u001b[1;33m]\u001b[0m\u001b[1;33m)\u001b[0m\u001b[1;33m\u001b[0m\u001b[0m\n\u001b[0m\u001b[0;32m      5\u001b[0m \u001b[0mcorrelated_n_grams\u001b[0m\u001b[1;33m\u001b[0m\u001b[0m\n",
      "\u001b[1;31mTypeError\u001b[0m: 'int' object is not iterable"
     ]
    }
   ],
   "source": [
    "from itertools import product\n",
    "\n",
    "             \n",
    "correlated_n_grams = pd.DataFrame(list(product(n_gram_max, response_labels)), columns=['n_gram', 'stars', 'tokens', 'document_freq'])\n",
    "correlated_n_grams"
   ]
  },
  {
   "cell_type": "code",
   "execution_count": 391,
   "metadata": {
    "scrolled": false
   },
   "outputs": [
    {
     "ename": "SyntaxError",
     "evalue": "invalid syntax (<ipython-input-391-3f9b8ad3e348>, line 9)",
     "output_type": "error",
     "traceback": [
      "\u001b[1;36m  File \u001b[1;32m\"<ipython-input-391-3f9b8ad3e348>\"\u001b[1;36m, line \u001b[1;32m9\u001b[0m\n\u001b[1;33m    correlated_n_grams['stars'], correlated_n_grams['n_gram'] = np.arange(response_labels)\u001b[0m\n\u001b[1;37m                     ^\u001b[0m\n\u001b[1;31mSyntaxError\u001b[0m\u001b[1;31m:\u001b[0m invalid syntax\n"
     ]
    }
   ],
   "source": [
    "top_n_tokens = 10\n",
    "response_labels = np.sort(raw_data.stars.unique())\n",
    "n_gram_max = 3\n",
    "\n",
    "\n",
    "\n",
    "for response_label in response_labels:   \n",
    "    features_chi2 = chi2(dtm_counts, raw_data.stars == response_label) # calc chi^2 for the class\n",
    "    indices = np.argsort(features_chi2[0]) # get the sorted indices\n",
    "    feature_names = np.array(token_counts.get_feature_names())[indices] # sort feature names ascendingly\n",
    "    for n in range(n_gram_max):\n",
    "        n_gram = n + 1\n",
    "        n_grams = [v for v in feature_names if len(v.split(' ')) == n_gram]    \n",
    "        correlated_n_grams['stars'], correlated_n_grams['n_gram'], correlated_n_grams['tokens'] = response_label, n_gram, n_grams[-top_n_tokens:]\n",
    "        print(\"{}-star most correlated %d-grams:\".format(response_label) % n_gram)\n",
    "        print(\". {}\".format('\\n. '.join(n_grams[-top_n_tokens:])))\n",
    "\n",
    "\n",
    "# https://scikit-learn.org/stable/modules/generated/sklearn.feature_selection.chi2.html\n",
    "\n"
   ]
  },
  {
   "cell_type": "code",
   "execution_count": 301,
   "metadata": {},
   "outputs": [],
   "source": [
    "\n",
    "def stem_text(doc):\n",
    "    \"\"\"\n",
    "    \n",
    "    Source: https://stackoverflow.com/a/36191362/4463701\n",
    "    \"\"\"\n",
    "    return (stemmer.stem(token) for token in doc)\n",
    "raw_data['text_stemmed'] = raw_data.text.apply(stem_text)"
   ]
  },
  {
   "cell_type": "code",
   "execution_count": 315,
   "metadata": {},
   "outputs": [
    {
     "data": {
      "text/plain": [
       "(33255, 10841)"
      ]
     },
     "execution_count": 315,
     "metadata": {},
     "output_type": "execute_result"
    }
   ],
   "source": [
    "dtm_counts.shape"
   ]
  },
  {
   "cell_type": "code",
   "execution_count": null,
   "metadata": {},
   "outputs": [],
   "source": [
    "\n",
    "analyzer = CountVectorizer().build_analyzer() \n",
    "\n",
    "def stem_text(doc):\n",
    "    \"\"\"\n",
    "    Passed as the callable for sklearn.feature_extraction.text classes\n",
    "    Each token is stemmed and returned if it meets the conditions\n",
    "    Source: https://stackoverflow.com/a/36191362/4463701\n",
    "    \"\"\"\n",
    "    return (stemmer.stem(token) for token in analyzer(doc)\\\n",
    "            if token.isalpha() and len(token) > 1 and token not in revised_stopwords)\n",
    "\n",
    "def text_processor_nltk(word):\n",
    "    \"\"\"\"\"\"\n",
    "        return stemmer.stem(word).lower() if word.isalpha() and len(word) > 1 and word not in revised_stopwords\n",
    "    \n",
    "#text_cleaned = list(map(text_cleaner_v1, nl_text))\n",
    "text_cleaned = list(map(, nl_text))\n",
    "\n",
    "# plt.figure(figsize=(15, 15))\n",
    "# sns.boxplot(x='useful', y='stars', orient='h', fliersize=1, data=raw_data)\n",
    "\n",
    "# plt.figure(figsize=(15, 15))\n",
    "# sns.boxplot(x='useful', y='stars', orient='h', fliersize=1, data=raw_data)\n",
    "\n",
    "# sns.set(style=\"darkgrid\")\n",
    "\n",
    "# plt.figure(figsize=(9, 15))\n",
    "# g = sns.FacetGrid(raw_data, col=\"stars\", margin_titles=True)\n",
    "# bins = np.linspace(0, np.max(raw_data['useful']), )\n",
    "# g.map(plt.hist, \"useful\", color=\"steelblue\", bins=bins)\n",
    "\n",
    "# sns.distplot(raw_data['useful'])\n",
    "# sns.heatmap(raw_data[['stars', 'useful']].pivot_table(index='useful', columns='stars'))\n",
    "\n",
    "# sns.heatmap(raw_data.groupby(['stars', 'useful']).size().unstack(fill_value=0))\n",
    "# https://stackoverflow.com/a/40839983/4463701"
   ]
  }
 ],
 "metadata": {
  "kernelspec": {
   "display_name": "Python 3",
   "language": "python",
   "name": "python3"
  },
  "language_info": {
   "codemirror_mode": {
    "name": "ipython",
    "version": 3
   },
   "file_extension": ".py",
   "mimetype": "text/x-python",
   "name": "python",
   "nbconvert_exporter": "python",
   "pygments_lexer": "ipython3",
   "version": "3.6.5"
  }
 },
 "nbformat": 4,
 "nbformat_minor": 1
}
