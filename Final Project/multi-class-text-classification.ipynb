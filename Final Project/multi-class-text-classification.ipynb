{
 "cells": [
  {
   "cell_type": "markdown",
   "metadata": {
    "collapsed": true
   },
   "source": [
    "# CUNY DATA620 Final Project\n",
    "\n",
    "## Kyle Gilde\n",
    "\n",
    "## 12/15/2018\n",
    "\n",
    "\n",
    "Gleaning information from customer reviews presents both challenges and opportunities for businesses. The challenges include bringing a formal, objective structure to unstructured, subjective natural language, while the results can yield valuable insights into customer attitudes towards the business.\n",
    "\n",
    "For the final project, I will attempt to build a machine learning classification model that uses text of customer reviews to predict the review's numerical `star` rating. In effect, we will see if we can build a sentiment analysis classifier.\n",
    "\n",
    "We will experiment with different natural language processing techniques to normalize the text and with different machine learning algorithms.\n",
    "\n",
    "I took advantage of the [Yelp Open Dataset](https://www.yelp.com/dataset), which the company makes available for non-commercial use. "
   ]
  },
  {
   "cell_type": "code",
   "execution_count": 3,
   "metadata": {},
   "outputs": [],
   "source": [
    "import numpy as np\n",
    "import pandas as pd\n",
    "import matplotlib.pyplot as plt\n",
    "import seaborn as sns\n",
    "\n",
    "import nltk\n",
    "from nltk.corpus import stopwords\n",
    "\n",
    "from sklearn.feature_extraction.text import TfidfVectorizer, CountVectorizer\n",
    "from sklearn.feature_selection import chi2\n",
    "\n",
    "from sklearn.model_selection import train_test_split\n",
    "from sklearn.naive_bayes import GaussianNB\n",
    "from sklearn.metrics import classification_report, accuracy_score, confusion_matrix\n",
    "\n",
    "from IPython.display import display, HTML"
   ]
  },
  {
   "cell_type": "markdown",
   "metadata": {},
   "source": [
    "## Exploratory Data Analysis\n",
    "\n",
    "From the original 6 million reviews, I used [this Python script](https://github.com/kylegilde/D620-Web-Analytics/blob/master/Final%20Project/resize-data.py) to retain only the reviews that were written starting in 2016 and that at least 10 other Yelp customers deemed \"useful\". The latter condition should reduce the amount of random noise caused by poorly written reviews.  With these conditions, our data set was over 33K reviews."
   ]
  },
  {
   "cell_type": "code",
   "execution_count": 4,
   "metadata": {},
   "outputs": [
    {
     "name": "stdout",
     "output_type": "stream",
     "text": [
      "<class 'pandas.core.frame.DataFrame'>\nRangeIndex: 33255 entries, 0 to 33254\nData columns (total 3 columns):\nstars     33255 non-null int64\ntext      33255 non-null object\nuseful    33255 non-null int64\ndtypes: int64(2), object(1)\nmemory usage: 779.5+ KB\n"
     ]
    }
   ],
   "source": [
    "raw_data = pd.read_csv('D:/documents/yelp_reviews.csv')[['stars', 'text', 'useful']]\n",
    "raw_data.info()"
   ]
  },
  {
   "cell_type": "markdown",
   "metadata": {},
   "source": [
    "### The Response Variable\n",
    "\n",
    "Our `star` response variable contains 5 imbalanced classes. The top rating of 5 is most common, closely followed by 4 and then 1. 2 stars is the least common class, followed by 3."
   ]
  },
  {
   "cell_type": "code",
   "execution_count": 5,
   "metadata": {
    "scrolled": true
   },
   "outputs": [
    {
     "data": {
      "text/plain": [
       "<matplotlib.axes._subplots.AxesSubplot at 0x250011ea278>"
      ]
     },
     "execution_count": 5,
     "metadata": {},
     "output_type": "execute_result"
    },
    {
     "data": {
      "image/png": "[encoded data removed]",
      "text/plain": [
       "<Figure size 792x648 with 1 Axes>"
      ]
     },
     "metadata": {},
     "output_type": "display_data"
    }
   ],
   "source": [
    "plt.figure(figsize=(11, 9))\n",
    "sns.countplot(x='stars', data=raw_data)"
   ]
  },
  {
   "cell_type": "markdown",
   "metadata": {},
   "source": [
    "### The Reviews\n",
    "\n",
    "First, let's take a look at the most useful review from each star level. We observe the following:\n",
    "\n",
    "- the reviews associated with bad ratings have more words that are completely capitalized and possibly more exclamation points.\n",
    "- the negative reviews seem to have more words of negation, e.g. \"no\" & \"not\". Normally, these words would be removed from the text when we remove stopwords. However, for our purposes, we may want to consider leaving them in.\n",
    "- we should see if the length of the review is positively correlated with the rating.\n"
   ]
  },
  {
   "cell_type": "code",
   "execution_count": 6,
   "metadata": {
    "scrolled": true,
    "collapsed": true
   },
   "outputs": [
    {
     "data": {
      "text/html": [
       "<table border=\"1\" class=\"dataframe\">\n",
       "  <thead>\n",
       "    <tr style=\"text-align: right;\">\n",
       "      <th>stars</th>\n",
       "      <th>text</th>\n",
       "    </tr>\n",
       "  </thead>\n",
       "  <tbody>\n",
       "    <tr>\n",
       "      <td>1</td>\n",
       "      <td>Was in Scottsdale visiting a friend and we stopped by here for a bite to eat. Possibly one of the worst dining experiences I have ever had. The owner (at least I think he was the owner) came out from the back of the kitchen and almost assaulted another patron for complaining that his meal was frozen solid in the middle. The couple quickly left the restaurant and we had a chuckle at this odd behavior but waited for our pizza. \\r\\n\\r\\nWhen our pizza finally came it was AWFUL! Growing up in NY I am a bit of a pizza snob and let me tell you, this barely passed as edible. It was cold, the cheese wasn't fully cooked and looked like it might have actually been a microwavable pizza. When I asked if they could heat it in the oven for longer they copped the biggest attitude and made us wait for 30 minutes. Absolutely terrible! Eventually we just got up and let after leaving a tip for the waitress.\\r\\n\\r\\nI honestly thought I might have been on some type of reality TV show, that's how insanely BAD this place is!</td>\n",
       "    </tr>\n",
       "    <tr>\n",
       "      <td>2</td>\n",
       "      <td>With all the chemicals, pesticides, pollution, GMO's and hormone injected food, Whole Food stood up to provide organic food. However I think I just ate a gasoline brisket at this location. \\r\\n\\r\\nI like Whole Foods bread, salads and food bar. When I'm home in Chicago, I eat at WF every single day. Big fan. Recently I stopped by this location on my way to Pittsburgh airport. From outside, this location looks neat and brand new. It's spacious from the inside and has plenty of indoors and outside seats. \\r\\n\\r\\nI was all happy until I tasted the food. I added a piece of brisket, one piece of fried chicken and one chicken drumstick to my salad. Oh man!! When I opened the salad box, a strong petroleum smell slapped my nose. I found out it was coming from the brisket. I think they marinated the brisket in gasoline and charcoal. It was tender, but not edible. So I discarded it. The fried chicken was bone dry so I didn't eat it. The roasted chicken drumstick felt you're biting into big chunks of dry spices rub, ugh!. Left it alone as well. The green vegetables I added were really fresh and nice. But the gasoline taste overwhelmed everything. \\r\\n\\r\\nTo buy groceries, I think this WF is great and standard. For the food section, it would be nice if the manager or the cooks could taste the food before serving it. I was tired and in a hurry to complain about that gasoline charcoal brisket.</td>\n",
       "    </tr>\n",
       "    <tr>\n",
       "      <td>3</td>\n",
       "      <td>Nutter Butter, Chips Ahoy! and Oreo cookie made into an awesome doughnut?! \\r\\n\\r\\nYes, please! \\r\\n\\r\\nHere's how the fabulous trio scored in taste and originality. \\r\\n\\r\\nThe Nutter Butter Cookie Twist Doughnut; covered in Krispy Kreme's signature glaze, dipped in peanut butter icing, topped with real Nutter Butter cookie pieces, then drizzled with more of the peanut butter icing. Phew! A lot of dipping and drizzling for a doughnut! \\r\\n\\r\\nAll worth the work for it actually tasted like the Nutter Butter cookies! Not too overpowering on the peanut butter taste, overall, this was my favorite of the three. \\r\\n\\r\\nThe Chips Ahoy! Doughnut; with cookie dough Kreme, topped with melted dark chocolate and a mini Chips Ahoy cookie. \\r\\n\\r\\nOne of the best dressed, but, it was super sweet, tasted like a regular Kreme doughnut and sort of a spin off of the Boston Cream pastry. It didn't have the cookie inspiration I was looking for. \\r\\n\\r\\nLastly, making its return, by popular demand, the Oreo Cookies and Kreme doughnut; Stuffed with an Oreo cookie flavored cream, then coated in dark chocolate icing, topped with Oreo cookie crumbles and finished off with a drizzle of icing.\\r\\n\\r\\nAgain a miss in the Oreo goodness. Very light in the cookies and cream flavor and the chocolate wasn't sharp enough. \\r\\n\\r\\nThere you have it. Do remember that all their doughnuts are ingredient Kosher, where certain factors are limited into getting that full, flavored taste that we are looking for. Still, an imaginative mash up. \\r\\n\\r\\n\"So, whatever sprinkles your doughnuts, is fine by me for you are all sprinkles on my doughnuts!\"</td>\n",
       "    </tr>\n",
       "    <tr>\n",
       "      <td>4</td>\n",
       "      <td>Ribeye phenomena:\\r\\n\\r\\nThis is definitely a unique dish that you probably won't experience somewhere else. It's designed for two big hungry dudes or 2 steelers maybe. It's a 34 oz bone-in ribeye topped with mushroom Ragu, bone marrow gratin and confit fries. FYI, for metric system folks, 34 oz ~ 1 kg. Warning: it's a giant dish!. We boxed half of it.  Seriously, you can't order this if you're going out on a date with a delicate fine lady. It looks exactly like a dinner for a Viking king. People sitting around us were curiously uninhibitedly staring at the dish.  It was delicious! Although I wasn't a fan of the mushrooms on top. The meat was perfectly cooked, juicy and tender. Bone marrow was wonderful!. Confit fries were not good. They were hard, overcooked, soaked with fat and bland. My suggestion for improvement is to eliminate the fries or use regular fries like McDonald's. Some people like the mushrooms topping, personally I think it was unnecessary. A good steak doesn't need any topping other than salt and pepper. \\r\\n\\r\\nWe walked in around 5 pm without a reservation. Waited for 45 minutes, spent it walking around the pretty Cultural District. Pittsburgh has a Chicago or New York touch. Atmosphere here is classic. Bar area is in the middle and seats are around it in a rectangle shape. We asked the waitress to change our seats from a tiny table to a bigger one. That was thankfully granted. \\r\\n\\r\\nDuring my brisk visit with Pittsburgh, I wanted to pay one of my good friends back. He genuinely showed extraordinary hospitality. You can never pay nice people back. But it was a good hint coming here.</td>\n",
       "    </tr>\n",
       "    <tr>\n",
       "      <td>5</td>\n",
       "      <td>The Wynn Hotel. One word. Opulent. \\r\\n\\r\\nWynn, is a luxury resort and casino located on the Las Vegas Strip. Named after the casino developer Steve Wynn, this $2.7 billion resort together with Encore is the world's seventh-largest hotels and one of the finest in the world. \\r\\n\\r\\nHolding the title for the highest rated resort company in the world with 16 Forbes Travel Guide Five-Star Awards, AAA five diamond, Mobil five-star, Michelin five star, and Zagat Survey Top U.S. Hotel ratings, as well as one Michelin star for its restaurant Wing Lei, the first Chinese restaurant to receive a Michelin Star in the country. \\r\\n\\r\\nThe Wynn is a genre almost entirely their own. Talk about a blend of opulent creativity and seductive comfort. Wynn Hotel designer Roger Thomas calls it \"Evocatect.\" The \"architecture that evokes wonderful moments in people's lives.\" \\r\\n\\r\\nShare a moment alone or with someone special and walk through the sunlit Atrium, gaze at the immense beauty of the Parasols, dine at one of their Four-Star Award-winning restaurants, which holds more awards than any other independent resort in North America, shop at Chanel, Dior, or Louie Vuitton just to name a few, enjoy their epic casino gaming floor or just take a load off and stay at one of their exquisite rooms. \\r\\n\\r\\nWhatever you decide to do at the Wynn, their magnificent ambience and hospitality will create such an extraordinary emotional experience you will never forget.</td>\n",
       "    </tr>\n",
       "  </tbody>\n",
       "</table>"
      ],
      "text/plain": [
       "<table border=\"1\" class=\"dataframe\">\n",
       "  <thead>\n",
       "    <tr style=\"text-align: right;\">\n",
       "      <th>stars</th>\n",
       "      <th>text</th>\n",
       "    </tr>\n",
       "  </thead>\n",
       "  <tbody>\n",
       "    <tr>\n",
       "      <td>1</td>\n",
       "      <td>Was in Scottsdale visiting a friend and we stopped by here for a bite to eat. Possibly one of the worst dining experiences I have ever had. The owner (at least I think he was the owner) came out from the back of the kitchen and almost assaulted another patron for complaining that his meal was frozen solid in the middle. The couple quickly left the restaurant and we had a chuckle at this odd behavior but waited for our pizza. \\r\\n\\r\\nWhen our pizza finally came it was AWFUL! Growing up in NY I am a bit of a pizza snob and let me tell you, this barely passed as edible. It was cold, the cheese wasn't fully cooked and looked like it might have actually been a microwavable pizza. When I asked if they could heat it in the oven for longer they copped the biggest attitude and made us wait for 30 minutes. Absolutely terrible! Eventually we just got up and let after leaving a tip for the waitress.\\r\\n\\r\\nI honestly thought I might have been on some type of reality TV show, that's how insanely BAD this place is!</td>\n",
       "    </tr>\n",
       "    <tr>\n",
       "      <td>2</td>\n",
       "      <td>With all the chemicals, pesticides, pollution, GMO's and hormone injected food, Whole Food stood up to provide organic food. However I think I just ate a gasoline brisket at this location. \\r\\n\\r\\nI like Whole Foods bread, salads and food bar. When I'm home in Chicago, I eat at WF every single day. Big fan. Recently I stopped by this location on my way to Pittsburgh airport. From outside, this location looks neat and brand new. It's spacious from the inside and has plenty of indoors and outside seats. \\r\\n\\r\\nI was all happy until I tasted the food. I added a piece of brisket, one piece of fried chicken and one chicken drumstick to my salad. Oh man!! When I opened the salad box, a strong petroleum smell slapped my nose. I found out it was coming from the brisket. I think they marinated the brisket in gasoline and charcoal. It was tender, but not edible. So I discarded it. The fried chicken was bone dry so I didn't eat it. The roasted chicken drumstick felt you're biting into big chunks of dry spices rub, ugh!. Left it alone as well. The green vegetables I added were really fresh and nice. But the gasoline taste overwhelmed everything. \\r\\n\\r\\nTo buy groceries, I think this WF is great and standard. For the food section, it would be nice if the manager or the cooks could taste the food before serving it. I was tired and in a hurry to complain about that gasoline charcoal brisket.</td>\n",
       "    </tr>\n",
       "    <tr>\n",
       "      <td>3</td>\n",
       "      <td>Nutter Butter, Chips Ahoy! and Oreo cookie made into an awesome doughnut?! \\r\\n\\r\\nYes, please! \\r\\n\\r\\nHere's how the fabulous trio scored in taste and originality. \\r\\n\\r\\nThe Nutter Butter Cookie Twist Doughnut; covered in Krispy Kreme's signature glaze, dipped in peanut butter icing, topped with real Nutter Butter cookie pieces, then drizzled with more of the peanut butter icing. Phew! A lot of dipping and drizzling for a doughnut! \\r\\n\\r\\nAll worth the work for it actually tasted like the Nutter Butter cookies! Not too overpowering on the peanut butter taste, overall, this was my favorite of the three. \\r\\n\\r\\nThe Chips Ahoy! Doughnut; with cookie dough Kreme, topped with melted dark chocolate and a mini Chips Ahoy cookie. \\r\\n\\r\\nOne of the best dressed, but, it was super sweet, tasted like a regular Kreme doughnut and sort of a spin off of the Boston Cream pastry. It didn't have the cookie inspiration I was looking for. \\r\\n\\r\\nLastly, making its return, by popular demand, the Oreo Cookies and Kreme doughnut; Stuffed with an Oreo cookie flavored cream, then coated in dark chocolate icing, topped with Oreo cookie crumbles and finished off with a drizzle of icing.\\r\\n\\r\\nAgain a miss in the Oreo goodness. Very light in the cookies and cream flavor and the chocolate wasn't sharp enough. \\r\\n\\r\\nThere you have it. Do remember that all their doughnuts are ingredient Kosher, where certain factors are limited into getting that full, flavored taste that we are looking for. Still, an imaginative mash up. \\r\\n\\r\\n\"So, whatever sprinkles your doughnuts, is fine by me for you are all sprinkles on my doughnuts!\"</td>\n",
       "    </tr>\n",
       "    <tr>\n",
       "      <td>4</td>\n",
       "      <td>Ribeye phenomena:\\r\\n\\r\\nThis is definitely a unique dish that you probably won't experience somewhere else. It's designed for two big hungry dudes or 2 steelers maybe. It's a 34 oz bone-in ribeye topped with mushroom Ragu, bone marrow gratin and confit fries. FYI, for metric system folks, 34 oz ~ 1 kg. Warning: it's a giant dish!. We boxed half of it.  Seriously, you can't order this if you're going out on a date with a delicate fine lady. It looks exactly like a dinner for a Viking king. People sitting around us were curiously uninhibitedly staring at the dish.  It was delicious! Although I wasn't a fan of the mushrooms on top. The meat was perfectly cooked, juicy and tender. Bone marrow was wonderful!. Confit fries were not good. They were hard, overcooked, soaked with fat and bland. My suggestion for improvement is to eliminate the fries or use regular fries like McDonald's. Some people like the mushrooms topping, personally I think it was unnecessary. A good steak doesn't need any topping other than salt and pepper. \\r\\n\\r\\nWe walked in around 5 pm without a reservation. Waited for 45 minutes, spent it walking around the pretty Cultural District. Pittsburgh has a Chicago or New York touch. Atmosphere here is classic. Bar area is in the middle and seats are around it in a rectangle shape. We asked the waitress to change our seats from a tiny table to a bigger one. That was thankfully granted. \\r\\n\\r\\nDuring my brisk visit with Pittsburgh, I wanted to pay one of my good friends back. He genuinely showed extraordinary hospitality. You can never pay nice people back. But it was a good hint coming here.</td>\n",
       "    </tr>\n",
       "    <tr>\n",
       "      <td>5</td>\n",
       "      <td>The Wynn Hotel. One word. Opulent. \\r\\n\\r\\nWynn, is a luxury resort and casino located on the Las Vegas Strip. Named after the casino developer Steve Wynn, this $2.7 billion resort together with Encore is the world's seventh-largest hotels and one of the finest in the world. \\r\\n\\r\\nHolding the title for the highest rated resort company in the world with 16 Forbes Travel Guide Five-Star Awards, AAA five diamond, Mobil five-star, Michelin five star, and Zagat Survey Top U.S. Hotel ratings, as well as one Michelin star for its restaurant Wing Lei, the first Chinese restaurant to receive a Michelin Star in the country. \\r\\n\\r\\nThe Wynn is a genre almost entirely their own. Talk about a blend of opulent creativity and seductive comfort. Wynn Hotel designer Roger Thomas calls it \"Evocatect.\" The \"architecture that evokes wonderful moments in people's lives.\" \\r\\n\\r\\nShare a moment alone or with someone special and walk through the sunlit Atrium, gaze at the immense beauty of the Parasols, dine at one of their Four-Star Award-winning restaurants, which holds more awards than any other independent resort in North America, shop at Chanel, Dior, or Louie Vuitton just to name a few, enjoy their epic casino gaming floor or just take a load off and stay at one of their exquisite rooms. \\r\\n\\r\\nWhatever you decide to do at the Wynn, their magnificent ambience and hospitality will create such an extraordinary emotional experience you will never forget.</td>\n",
       "    </tr>\n",
       "  </tbody>\n",
       "</table>"
      ]
     },
     "execution_count": 0,
     "metadata": {},
     "output_type": "execute_result"
    }
   ],
   "source": [
    "most_useful_review_idx = raw_data.groupby('stars')['useful'].idxmax()\n",
    "most_useful_reviews = raw_data.loc[most_useful_review_idx, ['stars','text']].reset_index(drop=True)\n",
    "\n",
    "pd.set_option('display.max_colwidth', 0)\n",
    "\n",
    "display(HTML(most_useful_reviews.to_html(index=False)))\n",
    "# Source: https://stackoverflow.com/a/35693013/4463701"
   ]
  },
  {
   "cell_type": "markdown",
   "metadata": {},
   "source": [
    "Contrary to what we suspected, the 5-star level has the least number of words, and the 2-star rating has the most."
   ]
  },
  {
   "cell_type": "code",
   "execution_count": 498,
   "metadata": {
    "collapsed": false
   },
   "outputs": [
    {
     "data": {
      "text/plain": [
       "<matplotlib.axes._subplots.AxesSubplot at 0x16d4caab588>"
      ]
     },
     "execution_count": 498,
     "metadata": {},
     "output_type": "execute_result"
    },
    {
     "data": {
      "image/png": "[encoded data removed]",
      "text/plain": [
       "<Figure size 1080x720 with 1 Axes>"
      ]
     },
     "metadata": {},
     "output_type": "display_data"
    }
   ],
   "source": [
    "plt.figure(figsize=(15, 10))\n",
    "# count words per review\n",
    "raw_data['n_words'] = raw_data.text.str.lower().str.split().apply(len)\n",
    "sns.boxplot(x='stars', y='n_words', fliersize=1, data=raw_data)"
   ]
  },
  {
   "cell_type": "markdown",
   "metadata": {},
   "source": [
    "Next, let's use `nltk ` to write some functions that will normalize our corpus and take a look at the most common words per star rating.\n",
    "The normalization includes:\n",
    "\n",
    "- converting the text to lowercase\n",
    "- keeping only the alphabetic tokens\n",
    "- keeping only the tokens with a length greater than 1\n",
    "- removing the stopwords"
   ]
  },
  {
   "cell_type": "code",
   "execution_count": 38,
   "metadata": {},
   "outputs": [],
   "source": [
    "def replace_contractions(doc):\n",
    "    \"\"\"\n",
    "    Passed as the callable to Pandas.apply()\n",
    "    Replaces \"n't\" with \" not\"\n",
    "    \"\"\"\n",
    "    tokens = []\n",
    "    for token in doc.split():\n",
    "        if token.lower().endswith(\"n't\"):\n",
    "            if token.lower() == \"can't\":\n",
    "                token = \"can not\"\n",
    "            token = token.replace(\"n't\", \" not\")\n",
    "        tokens.append(token)\n",
    "    return ' '.join(tokens)  \n",
    "\n",
    "stemmer = nltk.PorterStemmer()\n",
    "revised_stopwords = [word for word in stopwords.words('english') if not word.endswith(\"n't\") and word not in ['not', 'nor', 'no']] \n",
    "\n",
    "def stem_and_clean_text(doc):\n",
    "    \"\"\"\n",
    "    Passed as the callable to Pandas.apply()\n",
    "    Each token is stemmed and returned if it meets the conditions\n",
    "    Sources: https://stackoverflow.com/a/36191362/4463701\n",
    "    https://stackoverflow.com/a/51281480/4463701\n",
    "    \"\"\"\n",
    "    stemmed_tokens = [stemmer.stem(token).lower() for token in doc.split()\\\n",
    "                      if token.isalpha() # token contains only alphabetic characters\n",
    "                      and len(token) > 1 # token is at least 2 characters long\n",
    "                      and token not in revised_stopwords] # token is not among the revised stopwords\n",
    "    return ' '.join(stemmed_tokens) \n",
    "\n",
    "raw_data['text_stemmed'] = raw_data.text\\\n",
    "    .apply(replace_contractions)\\\n",
    "    .apply(stem_and_clean_text)"
   ]
  },
  {
   "cell_type": "code",
   "execution_count": 85,
   "metadata": {
    "collapsed": true
   },
   "outputs": [],
   "source": [
    "tfidf_unigrams = TfidfVectorizer(sublinear_tf=True, \n",
    "                                 min_df=10,\n",
    "                                 ngram_range=(1, 1))\n",
    "\n",
    "unigram_dtm = tfidf_unigrams.fit_transform(raw_data.text_stemmed)\n",
    "# https://scikit-learn.org/stable/modules/generated/sklearn.feature_extraction.text.CountVectorizer.html#sklearn.feature_extraction.text.CountVectorizer"
   ]
  },
  {
   "cell_type": "code",
   "execution_count": null,
   "metadata": {
    "scrolled": true,
    "collapsed": true
   },
   "outputs": [
    {
     "name": "stderr",
     "output_type": "stream",
     "text": [
      "C:\\Users\\kyleg\\Anaconda3_5.2.0\\envs\\py365\\lib\\site-packages\\seaborn\\axisgrid.py:715: UserWarning: Using the barplot function without specifying `order` is likely to produce an incorrect plot.\n  warnings.warn(warning)\n"
     ]
    },
    {
     "data": {
      "text/plain": [
       "<Figure size 1440x1440 with 0 Axes>"
      ]
     },
     "execution_count": 0,
     "metadata": {},
     "output_type": "execute_result"
    },
    {
     "data": {
      "image/png": "[encoded data removed]",
      "text/plain": [
       "<Figure size 648x432 with 5 Axes>"
      ]
     },
     "metadata": {},
     "output_type": "display_data"
    }
   ],
   "source": [
    "\n",
    "RESPONSE_LABELS = np.sort(raw_data.stars.unique())\n",
    "\n",
    "def plot_most_correlated_tokens(dtm, fit_transformer, n_grams = 1, labels = raw_data.stars, top_n_tokens = 10):\n",
    "    \"\"\"\n",
    "    \n",
    "    :param dtm: \n",
    "    :param fit_transformer: \n",
    "    :param n_grams: \n",
    "    :param labels: \n",
    "    :param top_n_tokens: \n",
    "    :return: None\n",
    "    Sources: https://github.com/mwaskom/seaborn/issues/867#issuecomment-184918644\n",
    "    \"\"\"\n",
    "    top_chi2_df = pd.DataFrame(columns=['stars', 'feature_name', 'chi2_value'])\n",
    "    for response_label in RESPONSE_LABELS:   \n",
    "        features_chi2 = chi2(dtm, labels == response_label) # calc chi^2 for the class\n",
    "        indices = np.argsort(features_chi2[0]) # get the sorted indices\n",
    "        feature_names = np.array(fit_transformer.get_feature_names())[indices] # sort feature names ascendinglyly    \n",
    "        top_feature_names = feature_names[-top_n_tokens:]\n",
    "        top_chi2_values = np.sort(features_chi2[0])[-top_n_tokens:]\n",
    "        stars_df = pd.DataFrame({'stars': np.repeat(response_label, top_n_tokens), \n",
    "                                 'feature_name': top_feature_names,\n",
    "                                 'chi2_value': top_chi2_values})   \n",
    "        top_chi2_df = pd.concat([top_chi2_df, stars_df], sort=True)\n",
    "\n",
    "\n",
    "    g = sns.FacetGrid(col=\"stars\", col_wrap=3, sharex=False, margin_titles=True, data=top_chi2_df)\n",
    "    g.map(sns.barplot, \"feature_name\", \"chi2_value\", color=\"steelblue\")\n",
    "    [plt.setp(ax.get_xticklabels(), rotation=45) for ax in g.axes.flat]\n",
    "    plt.figure(figsize=(20, 20))\n",
    "    \n",
    "plot_most_correlated_tokens(unigram_dtm, tfidf_unigrams)\n",
    "\n",
    "# https://scikit-learn.org/stable/modules/generated/sklearn.feature_selection.chi2.html\n",
    "# https://github.com/scikit-learn/scikit-learn/blob/55bf5d9/sklearn/feature_selection/univariate_selection.py#L172\n"
   ]
  },
  {
   "cell_type": "code",
   "execution_count": 40,
   "metadata": {},
   "outputs": [
    {
     "ename": "NameError",
     "evalue": "name 'features_chi2' is not defined",
     "traceback": [
      "\u001b[1;31m---------------------------------------------------------------------------\u001b[0m",
      "\u001b[1;31mNameError\u001b[0m                                 Traceback (most recent call last)",
      "\u001b[1;32m<ipython-input-40-77dd486e1101>\u001b[0m in \u001b[0;36m<module>\u001b[1;34m()\u001b[0m\n\u001b[1;32m----> 1\u001b[1;33m \u001b[0mfeatures_chi2\u001b[0m\u001b[1;33m[\u001b[0m\u001b[1;36m0\u001b[0m\u001b[1;33m]\u001b[0m\u001b[1;33m\u001b[0m\u001b[0m\n\u001b[0m",
      "\u001b[1;31mNameError\u001b[0m: name 'features_chi2' is not defined"
     ],
     "output_type": "error"
    }
   ],
   "source": [
    "features_chi2[0]"
   ]
  },
  {
   "cell_type": "code",
   "execution_count": 472,
   "metadata": {
    "scrolled": true
   },
   "outputs": [
    {
     "data": {
      "text/html": [
       "<div>\n",
       "<style scoped>\n",
       "    .dataframe tbody tr th:only-of-type {\n",
       "        vertical-align: middle;\n",
       "    }\n",
       "\n",
       "    .dataframe tbody tr th {\n",
       "        vertical-align: top;\n",
       "    }\n",
       "\n",
       "    .dataframe thead th {\n",
       "        text-align: right;\n",
       "    }\n",
       "</style>\n",
       "<table border=\"1\" class=\"dataframe\">\n",
       "  <thead>\n",
       "    <tr style=\"text-align: right;\">\n",
       "      <th></th>\n",
       "      <th>n_gram</th>\n",
       "      <th>stars</th>\n",
       "      <th>tokens</th>\n",
       "    </tr>\n",
       "  </thead>\n",
       "  <tbody>\n",
       "    <tr>\n",
       "      <th>0</th>\n",
       "      <td>1</td>\n",
       "      <td>1</td>\n",
       "      <td>['would', 'never', 'no', 'manag', 'compani', 'ask', 'not', 'said', 'told', 'call']</td>\n",
       "    </tr>\n",
       "    <tr>\n",
       "      <th>1</th>\n",
       "      <td>1</td>\n",
       "      <td>2</td>\n",
       "      <td>['food', 'wait', 'bland', 'mayb', 'minut', 'seem', 'disappoint', 'ask', 'no', 'not']</td>\n",
       "    </tr>\n",
       "    <tr>\n",
       "      <th>2</th>\n",
       "      <td>1</td>\n",
       "      <td>3</td>\n",
       "      <td>['averag', 'food', 'good', 'tast', 'pretti', 'call', 'the', 'order', 'decent', 'bit']</td>\n",
       "    </tr>\n",
       "    <tr>\n",
       "      <th>3</th>\n",
       "      <td>1</td>\n",
       "      <td>4</td>\n",
       "      <td>['compani', 'the', 'he', 'no', 'good', 'ask', 'said', 'not', 'told', 'call']</td>\n",
       "    </tr>\n",
       "    <tr>\n",
       "      <th>4</th>\n",
       "      <td>1</td>\n",
       "      <td>5</td>\n",
       "      <td>['best', 'ask', 'no', 'call', 'love', 'would', 'said', 'amaz', 'told', 'not']</td>\n",
       "    </tr>\n",
       "    <tr>\n",
       "      <th>5</th>\n",
       "      <td>2</td>\n",
       "      <td>1</td>\n",
       "      <td>['wast time', 'could give', 'phone call', 'told would', 'no one', 'said would', 'custom servic', 'call back', 'would not', 'do not']</td>\n",
       "    </tr>\n",
       "    <tr>\n",
       "      <th>6</th>\n",
       "      <td>2</td>\n",
       "      <td>2</td>\n",
       "      <td>['one plu', 'low rate', 'no one', 'realli want', 'not sure', 'want like', 'tast like', 'give two', 'not worth', 'two star']</td>\n",
       "    </tr>\n",
       "    <tr>\n",
       "      <th>7</th>\n",
       "      <td>2</td>\n",
       "      <td>3</td>\n",
       "      <td>['do not', 'noth realli', 'give three', 'flat white', 'highli recommend', 'the food', 'tast like', 'not sure', 'not bad', 'three star']</td>\n",
       "    </tr>\n",
       "    <tr>\n",
       "      <th>8</th>\n",
       "      <td>2</td>\n",
       "      <td>4</td>\n",
       "      <td>['pretti good', 'realli enjoy', 'no one', 'call back', 'realli like', 'the menu', 'would definit', 'custom servic', 'would not', 'do not']</td>\n",
       "    </tr>\n",
       "    <tr>\n",
       "      <th>9</th>\n",
       "      <td>2</td>\n",
       "      <td>5</td>\n",
       "      <td>['not worth', 'say enough', 'new favorit', 'absolut love', 'do not', 'no one', 'would not', 'one best', 'gluch group', 'highli recommend']</td>\n",
       "    </tr>\n",
       "    <tr>\n",
       "      <th>10</th>\n",
       "      <td>3</td>\n",
       "      <td>1</td>\n",
       "      <td>['never go back', 'would never recommend', 'worst experi ever', 'worst custom servic', 'do not use', 'could give zero', 'give zero star', 'would not recommend', 'do not go', 'if could give']</td>\n",
       "    </tr>\n",
       "    <tr>\n",
       "      <th>11</th>\n",
       "      <td>3</td>\n",
       "      <td>2</td>\n",
       "      <td>['would not come', 'on visit order', 'wait anoth minut', 'want give place', 'yelp review overal', 'no one care', 'not go back', 'realli want like', 'get two star', 'give two star']</td>\n",
       "    </tr>\n",
       "    <tr>\n",
       "      <th>12</th>\n",
       "      <td>3</td>\n",
       "      <td>3</td>\n",
       "      <td>['dulc de lech', 'not first choic', 'best part meal', 'not sure back', 'la vega strip', 'would go back', 'noth realli stood', 'go way come', 'noth write home', 'give place anoth']</td>\n",
       "    </tr>\n",
       "    <tr>\n",
       "      <th>13</th>\n",
       "      <td>3</td>\n",
       "      <td>4</td>\n",
       "      <td>['would definit return', 'do not go', 'they also offer', 'we also order', 'food realli good', 'come back tri', 'would not recommend', 'definit come back', 'if could give', 'would definit come']</td>\n",
       "    </tr>\n",
       "    <tr>\n",
       "      <th>14</th>\n",
       "      <td>3</td>\n",
       "      <td>5</td>\n",
       "      <td>['do not go', 'cannot say enough', 'lash sugar compani', 'enough good thing', 'say enough good', 'the gluch group', 'would not recommend', 'wait go back', 'wait come back', 'would highli recommend']</td>\n",
       "    </tr>\n",
       "  </tbody>\n",
       "</table>\n",
       "</div>"
      ],
      "text/plain": [
       "    n_gram  stars  \\\n",
       "0   1       1       \n",
       "1   1       2       \n",
       "2   1       3       \n",
       "3   1       4       \n",
       "4   1       5       \n",
       "5   2       1       \n",
       "6   2       2       \n",
       "7   2       3       \n",
       "8   2       4       \n",
       "9   2       5       \n",
       "10  3       1       \n",
       "11  3       2       \n",
       "12  3       3       \n",
       "13  3       4       \n",
       "14  3       5       \n",
       "\n",
       "                                                                                                                                                                                                    tokens  \n",
       "0   ['would', 'never', 'no', 'manag', 'compani', 'ask', 'not', 'said', 'told', 'call']                                                                                                                      \n",
       "1   ['food', 'wait', 'bland', 'mayb', 'minut', 'seem', 'disappoint', 'ask', 'no', 'not']                                                                                                                    \n",
       "2   ['averag', 'food', 'good', 'tast', 'pretti', 'call', 'the', 'order', 'decent', 'bit']                                                                                                                   \n",
       "3   ['compani', 'the', 'he', 'no', 'good', 'ask', 'said', 'not', 'told', 'call']                                                                                                                            \n",
       "4   ['best', 'ask', 'no', 'call', 'love', 'would', 'said', 'amaz', 'told', 'not']                                                                                                                           \n",
       "5   ['wast time', 'could give', 'phone call', 'told would', 'no one', 'said would', 'custom servic', 'call back', 'would not', 'do not']                                                                    \n",
       "6   ['one plu', 'low rate', 'no one', 'realli want', 'not sure', 'want like', 'tast like', 'give two', 'not worth', 'two star']                                                                             \n",
       "7   ['do not', 'noth realli', 'give three', 'flat white', 'highli recommend', 'the food', 'tast like', 'not sure', 'not bad', 'three star']                                                                 \n",
       "8   ['pretti good', 'realli enjoy', 'no one', 'call back', 'realli like', 'the menu', 'would definit', 'custom servic', 'would not', 'do not']                                                              \n",
       "9   ['not worth', 'say enough', 'new favorit', 'absolut love', 'do not', 'no one', 'would not', 'one best', 'gluch group', 'highli recommend']                                                              \n",
       "10  ['never go back', 'would never recommend', 'worst experi ever', 'worst custom servic', 'do not use', 'could give zero', 'give zero star', 'would not recommend', 'do not go', 'if could give']          \n",
       "11  ['would not come', 'on visit order', 'wait anoth minut', 'want give place', 'yelp review overal', 'no one care', 'not go back', 'realli want like', 'get two star', 'give two star']                    \n",
       "12  ['dulc de lech', 'not first choic', 'best part meal', 'not sure back', 'la vega strip', 'would go back', 'noth realli stood', 'go way come', 'noth write home', 'give place anoth']                     \n",
       "13  ['would definit return', 'do not go', 'they also offer', 'we also order', 'food realli good', 'come back tri', 'would not recommend', 'definit come back', 'if could give', 'would definit come']       \n",
       "14  ['do not go', 'cannot say enough', 'lash sugar compani', 'enough good thing', 'say enough good', 'the gluch group', 'would not recommend', 'wait go back', 'wait come back', 'would highli recommend']  "
      ]
     },
     "execution_count": 472,
     "metadata": {},
     "output_type": "execute_result"
    }
   ],
   "source": [
    "correlated_n_grams"
   ]
  },
  {
   "cell_type": "code",
   "execution_count": null,
   "metadata": {},
   "outputs": [],
   "source": [
    "\n",
    "analyzer = CountVectorizer().build_analyzer() \n",
    "\n",
    "def stem_text(doc):\n",
    "    \"\"\"\n",
    "    Passed as the callable for sklearn.feature_extraction.text classes\n",
    "    Each token is stemmed and returned if it meets the conditions\n",
    "    Source: https://stackoverflow.com/a/36191362/4463701\n",
    "    \"\"\"\n",
    "    return (stemmer.stem(token) for token in analyzer(doc)\\\n",
    "            if token.isalpha() and len(token) > 1 and token not in revised_stopwords)\n",
    "\n",
    "def text_processor_nltk(word):\n",
    "    \"\"\"\"\"\"\n",
    "        return stemmer.stem(word).lower() if word.isalpha() and len(word) > 1 and word not in revised_stopwords\n",
    "    \n",
    "#text_cleaned = list(map(text_cleaner_v1, nl_text))\n",
    "text_cleaned = list(map(, nl_text))\n",
    "\n",
    "# plt.figure(figsize=(15, 15))\n",
    "# sns.boxplot(x='useful', y='stars', orient='h', fliersize=1, data=raw_data)\n",
    "\n",
    "# plt.figure(figsize=(15, 15))\n",
    "# sns.boxplot(x='useful', y='stars', orient='h', fliersize=1, data=raw_data)\n",
    "\n",
    "# sns.set(style=\"darkgrid\")\n",
    "\n",
    "# plt.figure(figsize=(9, 15))\n",
    "# g = sns.FacetGrid(raw_data, col=\"stars\", margin_titles=True)\n",
    "# bins = np.linspace(0, np.max(raw_data['useful']), )\n",
    "# g.map(plt.hist, \"useful\", color=\"steelblue\", bins=bins)\n",
    "\n",
    "# sns.distplot(raw_data['useful'])\n",
    "# sns.heatmap(raw_data[['stars', 'useful']].pivot_table(index='useful', columns='stars'))\n",
    "\n",
    "# sns.heatmap(raw_data.groupby(['stars', 'useful']).size().unstack(fill_value=0))\n",
    "# https://stackoverflow.com/a/40839983/4463701"
   ]
  }
 ],
 "metadata": {
  "kernelspec": {
   "display_name": "Python 3",
   "language": "python",
   "name": "python3"
  },
  "language_info": {
   "codemirror_mode": {
    "name": "ipython",
    "version": 3
   },
   "file_extension": ".py",
   "mimetype": "text/x-python",
   "name": "python",
   "nbconvert_exporter": "python",
   "pygments_lexer": "ipython3",
   "version": "3.6.5"
  }
 },
 "nbformat": 4,
 "nbformat_minor": 1
}
