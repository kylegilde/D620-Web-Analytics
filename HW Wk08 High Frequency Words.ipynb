{
 "cells": [
  {
   "cell_type": "markdown",
   "metadata": {},
   "source": [
    "# Homework Week 8: High Frequency Words\n",
    "\n",
    "## Data 620 Web Analytics\n",
    "\n",
    "### Kyle Gilde\n",
    "\n",
    "### 10/17/18\n",
    "\n",
    "#### Instructions\n",
    "\n",
    "Please answer the following questions in an IPython Notebook, posted to GitHub.\n",
    "\n",
    "1. Choose a corpus of interest.\n",
    "\n",
    "For this exercise, let's use the Wall Street Journal corpus."
   ]
  },
  {
   "cell_type": "code",
   "execution_count": 79,
   "metadata": {},
   "outputs": [
    {
     "data": {
      "text/plain": [
       "<Text: Wall Street Journal>"
      ]
     },
     "execution_count": 79,
     "metadata": {},
     "output_type": "execute_result"
    }
   ],
   "source": [
    "import nltk\n",
    "import pandas as pd\n",
    "import numpy as np\n",
    "import matplotlib.pyplot as plt\n",
    "#nltk.download() # C:\\Users\\kyleg\\AppData\\Roaming\\nltk_data\n",
    "from nltk.book import text7\n",
    "text7"
   ]
  },
  {
   "cell_type": "code",
   "execution_count": 28,
   "metadata": {},
   "outputs": [
    {
     "data": {
      "text/plain": [
       "['Pierre', 'Vinken', ',', '61', 'years', 'old', ',', 'will', 'join', 'the']"
      ]
     },
     "execution_count": 28,
     "metadata": {},
     "output_type": "execute_result"
    }
   ],
   "source": [
    "[token for token in text7[:10]]"
   ]
  },
  {
   "cell_type": "markdown",
   "metadata": {},
   "source": [
    "2. How many total unique words are in the corpus? (Please feel free to define unique words in any interesting, defensible way).\n",
    "\n",
    "First, let's normalize the corpus by doing the following:\n",
    "\n",
    "- stemming using the Porter stemmer\n",
    "\n",
    "- changing the letters to lowercase\n",
    "\n",
    "- only selecting tokens with alphabetical characters\n",
    "\n",
    "This normalization nearly cuts the number of unique tokens in half."
   ]
  },
  {
   "cell_type": "code",
   "execution_count": 41,
   "metadata": {},
   "outputs": [
    {
     "name": "stdout",
     "output_type": "stream",
     "text": [
      "12408\n",
      "6300\n"
     ]
    },
    {
     "data": {
      "text/plain": [
       "['pierr', 'vinken', 'year', 'old', 'will', 'join', 'the', 'board', 'as', 'a']"
      ]
     },
     "execution_count": 41,
     "metadata": {},
     "output_type": "execute_result"
    }
   ],
   "source": [
    "print(len(set(text7)))\n",
    "stemmer = nltk.PorterStemmer()\n",
    "wsj_stemmed = [stemmer.stem(t).lower() for t in text7 if t.isalpha()]\n",
    "print(len(set(wsj_stemmed)))\n",
    "wsj_stemmed[:10]"
   ]
  },
  {
   "cell_type": "markdown",
   "metadata": {},
   "source": [
    "3. Taking the most common words, how many unique words represent half of the total words in the corpus?\n",
    "\n",
    "The 123 most common words account for 50% of all words in the corpus."
   ]
  },
  {
   "cell_type": "code",
   "execution_count": 96,
   "metadata": {},
   "outputs": [
    {
     "data": {
      "text/plain": [
       "123"
      ]
     },
     "execution_count": 96,
     "metadata": {},
     "output_type": "execute_result"
    }
   ],
   "source": [
    "fdist = FreqDist(wsj_stemmed)\n",
    "fdist_df = pd.DataFrame(list(dict(fdist).items()), columns=['word', 'n'])\n",
    "fdist_df['proportion'] = fdist_df.n / fdist_df.n.sum()\n",
    "\n",
    "fdist_df = fdist_df.sort_values('n', ascending=False).reset_index().drop('index', axis=1)\n",
    "fdist_df['cumulative'] = fdist_df.proportion.cumsum()\n",
    "fdist_df[fdist_df.cumulative <= .5].shape[0]"
   ]
  },
  {
   "cell_type": "markdown",
   "metadata": {},
   "source": [
    "4. Identify the 200 highest frequency words in this corpus."
   ]
  },
  {
   "cell_type": "code",
   "execution_count": 102,
   "metadata": {},
   "outputs": [
    {
     "data": {
      "text/plain": [
       "0           the\n",
       "1            of\n",
       "2            to\n",
       "3             a\n",
       "4            in\n",
       "5           and\n",
       "6            it\n",
       "7           for\n",
       "8          that\n",
       "9            is\n",
       "10         said\n",
       "11           on\n",
       "12           by\n",
       "13           at\n",
       "14           as\n",
       "15         with\n",
       "16         from\n",
       "17           be\n",
       "18      million\n",
       "19           wa\n",
       "20          are\n",
       "21           ha\n",
       "22         have\n",
       "23           an\n",
       "24          new\n",
       "25         year\n",
       "26      compani\n",
       "27          say\n",
       "28          but\n",
       "29           he\n",
       "         ...   \n",
       "170       peopl\n",
       "171     current\n",
       "172       octob\n",
       "173         get\n",
       "174        rose\n",
       "175       those\n",
       "176      common\n",
       "177        bill\n",
       "178       money\n",
       "179         net\n",
       "180     purchas\n",
       "181        earn\n",
       "182     problem\n",
       "183       gener\n",
       "184     concern\n",
       "185      intern\n",
       "186        down\n",
       "187        want\n",
       "188    chairman\n",
       "189      declin\n",
       "190        work\n",
       "191    institut\n",
       "192         yen\n",
       "193       right\n",
       "194        good\n",
       "195        sinc\n",
       "196      trader\n",
       "197        made\n",
       "198       court\n",
       "199         pay\n",
       "Name: word, Length: 200, dtype: object"
      ]
     },
     "execution_count": 102,
     "metadata": {},
     "output_type": "execute_result"
    }
   ],
   "source": [
    "top200 = fdist_df[:200]\n",
    "top200.word"
   ]
  },
  {
   "cell_type": "markdown",
   "metadata": {},
   "source": [
    "5. Create a graph that shows the relative frequency of these 200 words.\n"
   ]
  },
  {
   "cell_type": "code",
   "execution_count": 109,
   "metadata": {},
   "outputs": [
    {
     "data": {
      "text/plain": [
       "<matplotlib.axes._subplots.AxesSubplot at 0x1a446bcf1d0>"
      ]
     },
     "execution_count": 109,
     "metadata": {},
     "output_type": "execute_result"
    },
    {
     "data": {
      "image/png": "[encoded data removed]",
      "text/plain": [
       "<Figure size 432x288 with 1 Axes>"
      ]
     },
     "metadata": {},
     "output_type": "display_data"
    }
   ],
   "source": [
    "top200[['word', 'proportion']].plot.line()"
   ]
  },
  {
   "cell_type": "markdown",
   "metadata": {},
   "source": [
    "6. Does the observed relative frequency of these words follow Zipf’s law? Explain.\n"
   ]
  },
  {
   "cell_type": "code",
   "execution_count": 110,
   "metadata": {},
   "outputs": [
    {
     "data": {
      "text/plain": [
       "<matplotlib.axes._subplots.AxesSubplot at 0x1a447600080>"
      ]
     },
     "execution_count": 110,
     "metadata": {},
     "output_type": "execute_result"
    },
    {
     "data": {
      "image/png": "[encoded data removed]",
      "text/plain": [
       "<Figure size 432x288 with 1 Axes>"
      ]
     },
     "metadata": {},
     "output_type": "display_data"
    }
   ],
   "source": [
    "top200[['word', 'cumulative']].plot.line()"
   ]
  },
  {
   "cell_type": "markdown",
   "metadata": {},
   "source": [
    "7. In what ways do you think the frequency of the words in this corpus differ from “all words in all corpora.”\n",
    "\n"
   ]
  },
  {
   "cell_type": "code",
   "execution_count": 118,
   "metadata": {},
   "outputs": [
    {
     "data": {
      "text/plain": [
       "['said',\n",
       " 'million',\n",
       " 'wa',\n",
       " 'ha',\n",
       " 'new',\n",
       " 'year',\n",
       " 'compani',\n",
       " 'say',\n",
       " 'trade',\n",
       " 'market',\n",
       " 'stock',\n",
       " 'share',\n",
       " 'thi',\n",
       " 'would',\n",
       " 'price',\n",
       " 'program',\n",
       " 'presid',\n",
       " 'also',\n",
       " 'one',\n",
       " 'billion',\n",
       " 'bank',\n",
       " 'hi',\n",
       " 'rate',\n",
       " 'becaus',\n",
       " 'could',\n",
       " 'fund',\n",
       " 'manag',\n",
       " 'first',\n",
       " 'issu',\n",
       " 'report',\n",
       " 'investor',\n",
       " 'two',\n",
       " 'offer',\n",
       " 'ani',\n",
       " 'york',\n",
       " 'sale',\n",
       " 'last',\n",
       " 'make',\n",
       " 'month',\n",
       " 'execut',\n",
       " 'plan',\n",
       " 'mani',\n",
       " 'recent',\n",
       " 'use',\n",
       " 'futur',\n",
       " 'busi',\n",
       " 'invest',\n",
       " 'industri',\n",
       " 'time',\n",
       " 'profit',\n",
       " 'japanes',\n",
       " 'bond',\n",
       " 'expect',\n",
       " 'increas',\n",
       " 'govern',\n",
       " 'oper',\n",
       " 'like',\n",
       " 'close',\n",
       " 'onli',\n",
       " 'includ',\n",
       " 'may',\n",
       " 'even',\n",
       " 'ad',\n",
       " 'group',\n",
       " 'product',\n",
       " 'feder',\n",
       " 'firm',\n",
       " 'week',\n",
       " 'take',\n",
       " 'buy',\n",
       " 'index',\n",
       " 'offici',\n",
       " 'exchang',\n",
       " 'cent',\n",
       " 'american',\n",
       " 'japan',\n",
       " 'day',\n",
       " 'board',\n",
       " 'nation',\n",
       " 'interest',\n",
       " 'big',\n",
       " 'depart',\n",
       " 'research',\n",
       " 'test',\n",
       " 'secur',\n",
       " 'hous',\n",
       " 'note',\n",
       " 'countri',\n",
       " 'next',\n",
       " 'help',\n",
       " 'yesterday',\n",
       " 'continu',\n",
       " 'unit',\n",
       " 'servic',\n",
       " 'state',\n",
       " 'analyst',\n",
       " 'end',\n",
       " 'contract',\n",
       " 'point',\n",
       " 'sell',\n",
       " 'financi',\n",
       " 'gain',\n",
       " 'much',\n",
       " 'offic',\n",
       " 'order',\n",
       " 'yield',\n",
       " 'peopl',\n",
       " 'current',\n",
       " 'octob',\n",
       " 'get',\n",
       " 'rose',\n",
       " 'common',\n",
       " 'bill',\n",
       " 'money',\n",
       " 'net',\n",
       " 'purchas',\n",
       " 'earn',\n",
       " 'problem',\n",
       " 'gener',\n",
       " 'concern',\n",
       " 'intern',\n",
       " 'want',\n",
       " 'chairman',\n",
       " 'declin',\n",
       " 'work',\n",
       " 'institut',\n",
       " 'yen',\n",
       " 'right',\n",
       " 'good',\n",
       " 'sinc',\n",
       " 'trader',\n",
       " 'made',\n",
       " 'court',\n",
       " 'pay']"
      ]
     },
     "execution_count": 118,
     "metadata": {},
     "output_type": "execute_result"
    }
   ],
   "source": [
    "from nltk.corpus import stopwords\n",
    "stop_words = set(stopwords.words('english'))\n",
    "\n",
    "[word for word in top200.word if word not in stop_words]"
   ]
  }
 ],
 "metadata": {
  "kernelspec": {
   "display_name": "Python 3",
   "language": "python",
   "name": "python3"
  },
  "language_info": {
   "codemirror_mode": {
    "name": "ipython",
    "version": 3
   },
   "file_extension": ".py",
   "mimetype": "text/x-python",
   "name": "python",
   "nbconvert_exporter": "python",
   "pygments_lexer": "ipython3",
   "version": "3.6.5"
  }
 },
 "nbformat": 4,
 "nbformat_minor": 2
}
