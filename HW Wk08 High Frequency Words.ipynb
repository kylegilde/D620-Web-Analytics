{
 "cells": [
  {
   "cell_type": "markdown",
   "metadata": {},
   "source": [
    "# Homework Week 8: High Frequency Words\n",
    "\n",
    "## Data 620 Web Analytics\n",
    "\n",
    "### Kyle Gilde\n",
    "\n",
    "### 10/17/18\n",
    "\n",
    "#### Instructions\n",
    "\n",
    "Please answer the following questions in an IPython Notebook, posted to GitHub.\n",
    "\n",
    "1. Choose a corpus of interest.\n",
    "\n",
    "For this exercise, let's use the Wall Street Journal corpus."
   ]
  },
  {
   "cell_type": "code",
   "execution_count": 2,
   "metadata": {},
   "outputs": [
    {
     "name": "stdout",
     "output_type": "stream",
     "text": [
      "*** Introductory Examples for the NLTK Book ***\n",
      "Loading text1, ..., text9 and sent1, ..., sent9\n",
      "Type the name of the text or sentence to view it.\n",
      "Type: 'texts()' or 'sents()' to list the materials.\n",
      "text1: Moby Dick by Herman Melville 1851\n",
      "text2: Sense and Sensibility by Jane Austen 1811\n",
      "text3: The Book of Genesis\n",
      "text4: Inaugural Address Corpus\n",
      "text5: Chat Corpus\n",
      "text6: Monty Python and the Holy Grail\n",
      "text7: Wall Street Journal\n",
      "text8: Personals Corpus\n",
      "text9: The Man Who Was Thursday by G . K . Chesterton 1908\n"
     ]
    },
    {
     "data": {
      "text/plain": [
       "<Text: Wall Street Journal>"
      ]
     },
     "execution_count": 2,
     "metadata": {},
     "output_type": "execute_result"
    }
   ],
   "source": [
    "import nltk\n",
    "import pandas as pd\n",
    "import numpy as np\n",
    "import matplotlib.pyplot as plt\n",
    "#nltk.download() # C:\\Users\\kyleg\\AppData\\Roaming\\nltk_data\n",
    "from nltk.book import text7\n",
    "text7"
   ]
  },
  {
   "cell_type": "code",
   "execution_count": 3,
   "metadata": {},
   "outputs": [
    {
     "data": {
      "text/plain": [
       "['Pierre', 'Vinken', ',', '61', 'years', 'old', ',', 'will', 'join', 'the']"
      ]
     },
     "execution_count": 3,
     "metadata": {},
     "output_type": "execute_result"
    }
   ],
   "source": [
    "[token for token in text7[:10]]"
   ]
  },
  {
   "cell_type": "markdown",
   "metadata": {},
   "source": [
    "2. How many total unique words are in the corpus? (Please feel free to define unique words in any interesting, defensible way).\n",
    "\n",
    "First, let's normalize the corpus by doing the following:\n",
    "\n",
    "- stemming using the Porter stemmer\n",
    "\n",
    "- changing the letters to lowercase\n",
    "\n",
    "- only selecting tokens with alphabetical characters\n",
    "\n",
    "This normalization nearly cuts the number of unique tokens in half."
   ]
  },
  {
   "cell_type": "code",
   "execution_count": 4,
   "metadata": {},
   "outputs": [
    {
     "name": "stdout",
     "output_type": "stream",
     "text": [
      "12408\n",
      "6300\n"
     ]
    },
    {
     "data": {
      "text/plain": [
       "['pierr', 'vinken', 'year', 'old', 'will', 'join', 'the', 'board', 'as', 'a']"
      ]
     },
     "execution_count": 4,
     "metadata": {},
     "output_type": "execute_result"
    }
   ],
   "source": [
    "print(len(set(text7)))\n",
    "stemmer = nltk.PorterStemmer()\n",
    "wsj_stemmed = [stemmer.stem(t).lower() for t in text7 if t.isalpha()]\n",
    "print(len(set(wsj_stemmed)))\n",
    "wsj_stemmed[:10]"
   ]
  },
  {
   "cell_type": "markdown",
   "metadata": {},
   "source": [
    "3. Taking the most common words, how many unique words represent half of the total words in the corpus?\n",
    "\n",
    "The 123 most common words account for 50% of all words in the corpus."
   ]
  },
  {
   "cell_type": "code",
   "execution_count": 7,
   "metadata": {},
   "outputs": [
    {
     "data": {
      "text/plain": [
       "123"
      ]
     },
     "execution_count": 7,
     "metadata": {},
     "output_type": "execute_result"
    }
   ],
   "source": [
    "fdist = nltk.FreqDist(wsj_stemmed)\n",
    "fdist_df = pd.DataFrame(list(dict(fdist).items()), columns=['word', 'n'])\n",
    "fdist_df['proportion'] = fdist_df.n / fdist_df.n.sum()\n",
    "\n",
    "fdist_df = fdist_df.sort_values('n', ascending=False).reset_index().drop('index', axis=1)\n",
    "fdist_df['cumulative'] = fdist_df.proportion.cumsum()\n",
    "fdist_df[fdist_df.cumulative <= .5].shape[0]"
   ]
  },
  {
   "cell_type": "markdown",
   "metadata": {},
   "source": [
    "4. Identify the 200 highest frequency words in this corpus.\n",
    "\n",
    "Here they are by descending frequency."
   ]
  },
  {
   "cell_type": "code",
   "execution_count": 13,
   "metadata": {},
   "outputs": [
    {
     "name": "stdout",
     "output_type": "stream",
     "text": [
      "['the', 'of', 'to', 'a', 'in', 'and', 'it', 'for', 'that', 'is', 'said', 'on', 'by', 'at', 'as', 'with', 'from', 'be', 'million', 'wa', 'are', 'ha', 'have', 'an', 'new', 'year', 'compani', 'say', 'but', 'he', 'or', 'will', 'trade', 'market', 'they', 'stock', 'share', 'which', 'thi', 'about', 'would', 'more', 'were', 'price', 'their', 'than', 'program', 'presid', 'who', 'had', 'also', 'one', 'billion', 'other', 'up', 'been', 'some', 'bank', 'not', 'hi', 'rate', 'becaus', 'if', 'could', 'fund', 'all', 'manag', 'i', 'first', 'issu', 'report', 'investor', 'two', 'offer', 'ani', 'york', 'sale', 'last', 'make', 'month', 'execut', 'plan', 'mani', 'there', 'she', 'when', 'recent', 'use', 'such', 'do', 'no', 'futur', 'busi', 'invest', 'we', 'can', 'industri', 'you', 'time', 'so', 'profit', 'japanes', 'bond', 'after', 'expect', 'increas', 'into', 'govern', 'over', 'oper', 'like', 'close', 'most', 'onli', 'includ', 'may', 'even', 'ad', 'group', 'product', 'feder', 'firm', 'out', 'week', 'take', 'buy', 'index', 'these', 'offici', 'exchang', 'cent', 'american', 'japan', 'day', 'own', 'board', 'while', 'under', 'nation', 'interest', 'big', 'depart', 'research', 'test', 'secur', 'what', 'hous', 'note', 'now', 'them', 'countri', 'next', 'help', 'yesterday', 'continu', 'unit', 'servic', 'state', 'analyst', 'end', 'contract', 'point', 'sell', 'financi', 'gain', 'much', 'offic', 'order', 'did', 'yield', 'peopl', 'current', 'octob', 'get', 'rose', 'those', 'common', 'bill', 'money', 'net', 'purchas', 'earn', 'problem', 'gener', 'concern', 'intern', 'down', 'want', 'chairman', 'declin', 'work', 'institut', 'yen', 'right', 'good', 'sinc', 'trader', 'made', 'court', 'pay']\n"
     ]
    }
   ],
   "source": [
    "top200 = fdist_df[:200]\n",
    "print([word for word in top200.word])"
   ]
  },
  {
   "cell_type": "markdown",
   "metadata": {},
   "source": [
    "5. Create a graph that shows the relative frequency of these 200 words.\n"
   ]
  },
  {
   "cell_type": "code",
   "execution_count": 109,
   "metadata": {},
   "outputs": [
    {
     "data": {
      "text/plain": [
       "<matplotlib.axes._subplots.AxesSubplot at 0x1a446bcf1d0>"
      ]
     },
     "execution_count": 109,
     "metadata": {},
     "output_type": "execute_result"
    },
    {
     "data": {
      "image/png": "[encoded data removed]",
      "text/plain": [
       "<Figure size 432x288 with 1 Axes>"
      ]
     },
     "metadata": {},
     "output_type": "display_data"
    }
   ],
   "source": [
    "top200[['word', 'proportion']].plot.line()"
   ]
  },
  {
   "cell_type": "markdown",
   "metadata": {},
   "source": [
    "6. Does the observed relative frequency of these words follow Zipf’s law? Explain.\n",
    "\n",
    "Yes, as the probability mass function shows above, a word's frequency is inversely proportional to its rank. As the rank increase, its frequency decrease."
   ]
  },
  {
   "cell_type": "code",
   "execution_count": 14,
   "metadata": {},
   "outputs": [
    {
     "data": {
      "text/plain": [
       "<matplotlib.axes._subplots.AxesSubplot at 0x239470066d8>"
      ]
     },
     "execution_count": 14,
     "metadata": {},
     "output_type": "execute_result"
    },
    {
     "data": {
      "image/png": "[encoded data removed]",
      "text/plain": [
       "<Figure size 432x288 with 1 Axes>"
      ]
     },
     "metadata": {},
     "output_type": "display_data"
    }
   ],
   "source": [
    "fdist_df[['word', 'cumulative']].plot.line()"
   ]
  },
  {
   "cell_type": "markdown",
   "metadata": {},
   "source": [
    "7. In what ways do you think the frequency of the words in this corpus differ from “all words in all corpora.”\n",
    "\n",
    "Let's not hypothesize. Let's remove all of the words from the top 200 Wall Street Journal words that are also in the classic American novel Moby Dick. 8 of the top 200 remain, and they are exactly the words one would expect to be unique to the business "
   ]
  },
  {
   "cell_type": "code",
   "execution_count": 22,
   "metadata": {},
   "outputs": [
    {
     "name": "stdout",
     "output_type": "stream",
     "text": [
      "['program', 'fund', 'investor', 'sale', 'analyst', 'financi', 'chairman', 'yen', 'trader']\n"
     ]
    }
   ],
   "source": [
    "from nltk.book import text1\n",
    "stemmed_moby_dick = set(stemmer.stem(word).lower() for word in text1)\n",
    "\n",
    "wsj_less_moby_dick_words = [word for word in top200.word if word not in stemmed_moby_dick]\n",
    "print([word for word in wsj_less_moby_dick_words])"
   ]
  }
 ],
 "metadata": {
  "kernelspec": {
   "display_name": "Python 3",
   "language": "python",
   "name": "python3"
  },
  "language_info": {
   "codemirror_mode": {
    "name": "ipython",
    "version": 3
   },
   "file_extension": ".py",
   "mimetype": "text/x-python",
   "name": "python",
   "nbconvert_exporter": "python",
   "pygments_lexer": "ipython3",
   "version": "3.6.5"
  }
 },
 "nbformat": 4,
 "nbformat_minor": 2
}
